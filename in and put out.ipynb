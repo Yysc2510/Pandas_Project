{
 "cells": [
  {
   "metadata": {},
   "cell_type": "markdown",
   "source": [
    "1. pivot_table：透视表操作\n",
    "方法： 使用pivot_table方法可以根据一个或多个键对数据进行透视，类似于Excel中的透视表功能。\n",
    "\n",
    "示例代码： 创建一个透视表，计算不同产品在不同月份的销售额。"
   ],
   "id": "ec08a63b0b7369b6"
  },
  {
   "metadata": {},
   "cell_type": "markdown",
   "source": [
    "Product    A    B\n",
    "Month            \n",
    "Feb      150  470\n",
    "Jan      220  200\n",
    "data = {\n",
    "    'Month': ['Jan', 'Jan', 'Feb', 'Feb', 'Jan', 'Feb'],\n",
    "    'Product': ['A', 'B', 'A', 'B', 'A', 'B'],\n",
    "    'Sales': [100, 200, 150, 250, 120, 220]\n",
    "}"
   ],
   "id": "e944d49d03a07758"
  },
  {
   "metadata": {},
   "cell_type": "markdown",
   "source": [
    "data = {\n",
    "    'Month': ['1', '1', '2', '2', '3', '3'],\n",
    "    'Product': ['A', 'B', 'C', 'B', 'A', 'A'],\n",
    "    'Sales': [100, 200, 150, 250, 120, 220]\n",
    "}\n",
    "Product      A      B      C\n",
    "Month                       \n",
    "1        100.0  200.0    NaN\n",
    "2          NaN  250.0  150.0\n",
    "3        340.0    NaN    NaN"
   ],
   "id": "46ba10c70712655a"
  },
  {
   "metadata": {},
   "cell_type": "markdown",
   "source": [
    "Product      A      B      C      D      E       F\n",
    "Month                                             \n",
    "1        100.0  200.0    NaN    NaN    NaN     NaN\n",
    "10         NaN    NaN    NaN    NaN    NaN   900.0\n",
    "11         NaN    NaN    NaN    NaN    NaN  1000.0\n",
    "12         NaN    NaN    NaN    NaN    NaN   200.0\n",
    "2          NaN  250.0  150.0    NaN    NaN     NaN\n",
    "3        340.0    NaN    NaN    NaN    NaN     NaN\n",
    "4          NaN  300.0    NaN    NaN    NaN     NaN\n",
    "5          NaN    NaN  400.0    NaN    NaN     NaN\n",
    "6          NaN    NaN    NaN  500.0    NaN     NaN\n",
    "7          NaN    NaN    NaN  600.0    NaN     NaN\n",
    "8          NaN    NaN    NaN    NaN  700.0     NaN\n",
    "9          NaN    NaN    NaN    NaN    NaN   800.0\n",
    "data = {\n",
    "    'Month': ['1', '1', '2', '2', '3', '3','4','5','6','7','8','9','10','11','12'],\n",
    "    'Product': ['A', 'B', 'C', 'B', 'A', 'A', 'B', 'C', 'D', 'D', 'E', 'F', 'F', 'F', 'F'],\n",
    "    'Sales': [100, 200, 150, 250, 120, 220,300, 400, 500, 600, 700, 800, 900, 1000,200],\n",
    "}\n"
   ],
   "id": "627f2b2c9d96ad7c"
  },
  {
   "metadata": {},
   "cell_type": "markdown",
   "source": "",
   "id": "ec6d684f26019fa7"
  },
  {
   "cell_type": "code",
   "id": "initial_id",
   "metadata": {
    "collapsed": true,
    "ExecuteTime": {
     "end_time": "2024-06-16T15:49:23.346416Z",
     "start_time": "2024-06-16T15:49:23.334863Z"
    }
   },
   "source": [
    "import pandas as pd\n",
    "\n",
    "# 创建一个DataFrame\n",
    "data = {\n",
    "    'Month': ['1', '1', '2', '2', '3', '3','4','5','6','7','8','9','10','11','12'],\n",
    "    'Product': ['A', 'B', 'C', 'B', 'A', 'A', 'B', 'C', 'D', 'D', 'E', 'F', 'F', 'F', 'F'],\n",
    "    'Sales': [100, 200, 150, 250, 120, 220,300, 400, 500, 600, 700, 800, 900, 1000,200],\n",
    "}\n",
    "df = pd.DataFrame(data)\n",
    "\n",
    "# 创建透视表\n",
    "pivot_df = df.pivot_table(index='Month', columns='Product', values='Sales', aggfunc='sum')\n",
    "print(pivot_df)"
   ],
   "outputs": [
    {
     "name": "stdout",
     "output_type": "stream",
     "text": [
      "Product      A      B      C      D      E       F\n",
      "Month                                             \n",
      "1        100.0  200.0    NaN    NaN    NaN     NaN\n",
      "10         NaN    NaN    NaN    NaN    NaN   900.0\n",
      "11         NaN    NaN    NaN    NaN    NaN  1000.0\n",
      "12         NaN    NaN    NaN    NaN    NaN   200.0\n",
      "2          NaN  250.0  150.0    NaN    NaN     NaN\n",
      "3        340.0    NaN    NaN    NaN    NaN     NaN\n",
      "4          NaN  300.0    NaN    NaN    NaN     NaN\n",
      "5          NaN    NaN  400.0    NaN    NaN     NaN\n",
      "6          NaN    NaN    NaN  500.0    NaN     NaN\n",
      "7          NaN    NaN    NaN  600.0    NaN     NaN\n",
      "8          NaN    NaN    NaN    NaN  700.0     NaN\n",
      "9          NaN    NaN    NaN    NaN    NaN   800.0\n"
     ]
    }
   ],
   "execution_count": 8
  },
  {
   "metadata": {},
   "cell_type": "markdown",
   "source": [
    "2. cut：数据分箱操作\n",
    "方法： 使用cut方法将连续的数值数据分成离散的区间（箱子）。\n",
    "\n",
    "示例代码： 对一个数据列进行分箱操作，并计算每个箱子中的数据数量。"
   ],
   "id": "49d9c5483e06ad0f"
  },
  {
   "metadata": {},
   "cell_type": "markdown",
   "source": [
    "data = {\n",
    "    'Value': [10, 20, 30, 40, 50, 60, 70, 80, 90, 100]\n",
    "}\n",
    "Bins\n",
    "High      4\n",
    "Low       3\n",
    "Medium    3\n",
    "Name: count, dtype: int64"
   ],
   "id": "9a65175541f85c1c"
  },
  {
   "metadata": {},
   "cell_type": "markdown",
   "source": [
    "data = {\n",
    "    'Value': [50,54,56,15,25,61,34,15,15,]\n",
    "}\n",
    "\n",
    "Bins\n",
    "Low       4\n",
    "Medium    4\n",
    "High      1\n",
    "Name: count, dtype: int64\n"
   ],
   "id": "d478e80cfca2a63e"
  },
  {
   "metadata": {},
   "cell_type": "markdown",
   "source": [
    "data = {\n",
    "    'Value': [50,54,56,15,25,61,34,15,15,25,15,95,28]\n",
    "}\n",
    "Bins\n",
    "Low       7\n",
    "Medium    4\n",
    "High      2\n",
    "Name: count, dtype: int64"
   ],
   "id": "4a857bdfc6ee71e9"
  },
  {
   "metadata": {},
   "cell_type": "markdown",
   "source": "",
   "id": "d08528a4af06da5d"
  },
  {
   "metadata": {
    "ExecuteTime": {
     "end_time": "2024-06-16T15:52:24.569854Z",
     "start_time": "2024-06-16T15:52:24.563404Z"
    }
   },
   "cell_type": "code",
   "source": [
    "import pandas as pd\n",
    "\n",
    "# 创建一个DataFrame\n",
    "data = {\n",
    "    'Value': [50,54,56,15,25,61,34,15,15,25,15,95,28]\n",
    "}\n",
    "df = pd.DataFrame(data)\n",
    "\n",
    "# 数据分箱\n",
    "bins = [0, 30, 60, 100]\n",
    "labels = ['Low', 'Medium', 'High']\n",
    "df['Bins'] = pd.cut(df['Value'], bins=bins, labels=labels, right=True)\n",
    "\n",
    "# 计算每个箱子中的数据数量\n",
    "bin_counts = df['Bins'].value_counts()\n",
    "print(bin_counts)\n"
   ],
   "id": "9b4aa0704ced1012",
   "outputs": [
    {
     "name": "stdout",
     "output_type": "stream",
     "text": [
      "Bins\n",
      "Low       7\n",
      "Medium    4\n",
      "High      2\n",
      "Name: count, dtype: int64\n"
     ]
    }
   ],
   "execution_count": 10
  },
  {
   "metadata": {},
   "cell_type": "markdown",
   "source": [
    "3. applymap：应用函数到数据框的每个元素\n",
    "方法： 使用applymap方法将函数应用到数据框的每个元素。\n",
    "\n",
    "示例代码： 将一个数据框中的所有元素转换为小写。"
   ],
   "id": "3c2d2546252d81ea"
  },
  {
   "metadata": {},
   "cell_type": "markdown",
   "source": [
    "data = {\n",
    "    'A': ['Apple', 'Banana', 'Orange'],\n",
    "    'B': ['Cat', 'Dog', 'Elephant']\n",
    "}\n",
    "        A         B\n",
    "0   apple       cat\n",
    "1  banana       dog\n",
    "2  orange  elephant"
   ],
   "id": "8539970a2636372e"
  },
  {
   "metadata": {},
   "cell_type": "markdown",
   "source": [
    "data = {\n",
    "    'A': ['AOJUIOFSe', 'Bnana', 'OIOHCDFge','hxcHYDA'],\n",
    "    'B': ['yugt', 'Dg', 'Elet','ASUHC']\n",
    "}\n",
    "           A      B\n",
    "0  aojuiofse   yugt\n",
    "1      bnana     dg\n",
    "2  oiohcdfge   elet\n",
    "3    hxchyda  asuhc"
   ],
   "id": "68866fbcbcb7e0ff"
  },
  {
   "metadata": {},
   "cell_type": "markdown",
   "source": [
    " data = {\n",
    "    'A': ['AOJUIOFSe', 'Bnana', 'OIOHCDFge','hxcHYDA','UHDUIAID','DAHDI'],\n",
    "    'B': ['yugt', 'Dg', 'Elet','ASUHC','AOJUIOFSe','hxcHYDA'],\n",
    "}\n",
    "           A          B\n",
    "0  aojuiofse       yugt\n",
    "1      bnana         dg\n",
    "2  oiohcdfge       elet\n",
    "3    hxchyda      asuhc\n",
    "4   uhduiaid  aojuiofse\n",
    "5      dahdi    hxchyda"
   ],
   "id": "520a96626e5cfc48"
  },
  {
   "metadata": {},
   "cell_type": "markdown",
   "source": "",
   "id": "5e1fd2a06c9f6ebe"
  },
  {
   "metadata": {
    "ExecuteTime": {
     "end_time": "2024-06-16T15:54:55.188337Z",
     "start_time": "2024-06-16T15:54:55.181774Z"
    }
   },
   "cell_type": "code",
   "source": [
    "import pandas as pd\n",
    "\n",
    "# 创建一个DataFrame\n",
    "data = {\n",
    "    'A': ['AOJUIOFSe', 'Bnana', 'OIOHCDFge','hxcHYDA','UHDUIAID','DAHDI'],\n",
    "    'B': ['yugt', 'Dg', 'Elet','ASUHC','AOJUIOFSe','hxcHYDA'],\n",
    "}\n",
    "df = pd.DataFrame(data)\n",
    "\n",
    "# 使用DataFrame.apply和Series.map来转换为小写\n",
    "df_lower = df.apply(lambda x: x.map(lambda y: y.lower() if isinstance(y, str) else y))\n",
    "print(df_lower)\n"
   ],
   "id": "50f7e922e9514af2",
   "outputs": [
    {
     "name": "stdout",
     "output_type": "stream",
     "text": [
      "           A          B\n",
      "0  aojuiofse       yugt\n",
      "1      bnana         dg\n",
      "2  oiohcdfge       elet\n",
      "3    hxchyda      asuhc\n",
      "4   uhduiaid  aojuiofse\n",
      "5      dahdi    hxchyda\n"
     ]
    }
   ],
   "execution_count": 13
  },
  {
   "metadata": {},
   "cell_type": "markdown",
   "source": [
    "4.pd.to_datetime：日期时间转换 方法： 使用pd.to_datetime方法将字符串或数值转换为日期时间格式。\n",
    "      \n",
    "示例代码： 将一个包含日期字符串的列转换为日期时间格式，并提取出年份。"
   ],
   "id": "75cb014ff8fa02a7"
  },
  {
   "metadata": {},
   "cell_type": "markdown",
   "source": [
    "data = {\n",
    "    'Date': ['2023-01-01', '2024-02-15', '2025-03-30']\n",
    "}\n",
    "        Date  Year\n",
    "0 2023-01-01  2023\n",
    "1 2024-02-15  2024\n",
    "2 2025-03-30  2025"
   ],
   "id": "784cb87214d70760"
  },
  {
   "metadata": {},
   "cell_type": "markdown",
   "source": [
    "data = {\n",
    "    'Date': ['2015-01-11', '2011-01-15', '2025-05-30']\n",
    "}\n",
    "        Date  Year\n",
    "0 2015-01-11  2015\n",
    "1 2011-01-15  2011\n",
    "2 2025-05-30  2025"
   ],
   "id": "6786af95ae8291ff"
  },
  {
   "metadata": {},
   "cell_type": "markdown",
   "source": [
    "data = {\n",
    "    'Date': ['1995-01-11', '2000-01-15', '2051-05-30']\n",
    "}\n",
    "        Date  Year\n",
    "0 1995-01-11  1995\n",
    "1 2000-01-15  2000\n",
    "2 2051-05-30  2051"
   ],
   "id": "13a596de115679de"
  },
  {
   "metadata": {
    "ExecuteTime": {
     "end_time": "2024-06-16T16:00:40.823221Z",
     "start_time": "2024-06-16T16:00:40.814060Z"
    }
   },
   "cell_type": "code",
   "source": [
    "import pandas as pd\n",
    "\n",
    "# 创建一个DataFrame\n",
    "data = {\n",
    "    'Date': ['1995-01-11', '2000-01-15', '2051-05-30']\n",
    "}\n",
    "df = pd.DataFrame(data)\n",
    "\n",
    "# 将字符串转换为日期时间格式\n",
    "df['Date'] = pd.to_datetime(df['Date'])\n",
    "\n",
    "# 提取年份\n",
    "df['Year'] = df['Date'].dt.year\n",
    "print(df)"
   ],
   "id": "6cb38c6901509bc1",
   "outputs": [
    {
     "name": "stdout",
     "output_type": "stream",
     "text": [
      "        Date  Year\n",
      "0 1995-01-11  1995\n",
      "1 2000-01-15  2000\n",
      "2 2051-05-30  2051\n"
     ]
    }
   ],
   "execution_count": 18
  },
  {
   "metadata": {},
   "cell_type": "markdown",
   "source": [
    " 5.stack 和 unstack：数据堆叠与解堆操作 方法： 使用stack方法将数据框的列“堆叠”为多层索引的行，使用unstack方法将多层索引的行“解堆”为列。\n",
    "示例代码： 创建一个多层索引的数据框，并进行堆叠与解堆操作"
   ],
   "id": "c4d047e01e98a3"
  },
  {
   "metadata": {},
   "cell_type": "markdown",
   "source": [
    "data = {\n",
    "    'A': [1, 2, 3],\n",
    "    'B': [4, 5, 6],\n",
    "    'C': [7, 8, 9]\n",
    "}\n",
    "X  A    1\n",
    "   B    4\n",
    "   C    7\n",
    "Y  A    2\n",
    "   B    5\n",
    "   C    8\n",
    "Z  A    3\n",
    "   B    6\n",
    "   C    9\n",
    "dtype: int64\n",
    "   A  B  C\n",
    "X  1  4  7\n",
    "Y  2  5  8\n",
    "Z  3  6  9"
   ],
   "id": "3bdd6d31870c37c2"
  },
  {
   "metadata": {},
   "cell_type": "markdown",
   "source": [
    "data = {\n",
    "    'G': [6, 5, 1],\n",
    "    'V': [3, 1, 8],\n",
    "    'D': [8, 8, 9]\n",
    "}\n",
    "Q  G    6\n",
    "   V    3\n",
    "   D    8\n",
    "W  G    5\n",
    "   V    1\n",
    "   D    8\n",
    "E  G    1\n",
    "   V    8\n",
    "   D    9\n",
    "dtype: int64\n",
    "   G  V  D\n",
    "Q  6  3  8\n",
    "W  5  1  8\n",
    "E  1  8  9"
   ],
   "id": "abad167962bea3b9"
  },
  {
   "metadata": {},
   "cell_type": "markdown",
   "source": [
    "data = {\n",
    "    'W': [95, 56, 41],\n",
    "    'R': [35, 1, 86],\n",
    "    'N': [68, 85, 94]\n",
    "}\n",
    "M  W    95\n",
    "   R    35\n",
    "   N    68\n",
    "P  W    56\n",
    "   R     1\n",
    "   N    85\n",
    "T  W    41\n",
    "   R    86\n",
    "   N    94\n",
    "dtype: int64\n",
    "    W   R   N\n",
    "M  95  35  68\n",
    "P  56   1  85\n",
    "T  41  86  94"
   ],
   "id": "e7ddab2cf53d789f"
  },
  {
   "metadata": {
    "ExecuteTime": {
     "end_time": "2024-06-16T16:06:54.676928Z",
     "start_time": "2024-06-16T16:06:54.667217Z"
    }
   },
   "cell_type": "code",
   "source": [
    "import pandas as pd\n",
    "\n",
    "# 创建一个DataFrame\n",
    "data = {\n",
    "    'W': [95, 56, 41],\n",
    "    'R': [35, 1, 86],\n",
    "    'N': [68, 85, 94]\n",
    "}\n",
    "df = pd.DataFrame(data, index=['M', 'P', 'T'])\n",
    "\n",
    "# 将列堆叠为多层索引的行\n",
    "stacked_df = df.stack()\n",
    "print(stacked_df)\n",
    "\n",
    "# 解堆多层索引的行为列\n",
    "unstacked_df = stacked_df.unstack()\n",
    "print(unstacked_df)\n"
   ],
   "id": "2ade19d49d5ab0d7",
   "outputs": [
    {
     "name": "stdout",
     "output_type": "stream",
     "text": [
      "M  W    95\n",
      "   R    35\n",
      "   N    68\n",
      "P  W    56\n",
      "   R     1\n",
      "   N    85\n",
      "T  W    41\n",
      "   R    86\n",
      "   N    94\n",
      "dtype: int64\n",
      "    W   R   N\n",
      "M  95  35  68\n",
      "P  56   1  85\n",
      "T  41  86  94\n"
     ]
    }
   ],
   "execution_count": 20
  },
  {
   "metadata": {},
   "cell_type": "code",
   "outputs": [],
   "execution_count": null,
   "source": "",
   "id": "c4bbb8e3166cab0f"
  }
 ],
 "metadata": {
  "kernelspec": {
   "display_name": "Python 3",
   "language": "python",
   "name": "python3"
  },
  "language_info": {
   "codemirror_mode": {
    "name": "ipython",
    "version": 2
   },
   "file_extension": ".py",
   "mimetype": "text/x-python",
   "name": "python",
   "nbconvert_exporter": "python",
   "pygments_lexer": "ipython2",
   "version": "2.7.6"
  }
 },
 "nbformat": 4,
 "nbformat_minor": 5
}
