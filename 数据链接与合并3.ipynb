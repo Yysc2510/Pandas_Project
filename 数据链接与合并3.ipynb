{
 "cells": [
  {
   "cell_type": "markdown",
   "id": "5bdb6821",
   "metadata": {},
   "source": [
    "1.pd.DataFrame.combine_first()\n",
    "用于填充缺失值，将传入的DataFrame的缺失值用调用者的DataFrame的非缺失值填充。"
   ]
  },
  {
   "cell_type": "code",
   "execution_count": 1,
   "id": "8fdbbf61",
   "metadata": {},
   "outputs": [
    {
     "name": "stdout",
     "output_type": "stream",
     "text": [
      "     A    B\n",
      "0  1.0  NaN\n",
      "1  2.0  5.0\n",
      "2  3.0  6.0\n"
     ]
    }
   ],
   "source": [
    "import pandas as pd\n",
    "import numpy as np\n",
    "\n",
    "# 示例数据\n",
    "df1 = pd.DataFrame({'A':[1, 2, np.nan],\n",
    "                 'B':[np.nan, 5, 6]})\n",
    "df2 = pd.DataFrame({'A':[5, np.nan, 3],\n",
    "                 'B':[np.nan, 7, np.nan]})\n",
    "\n",
    "# 使用df2的非缺失值填充df1的缺失值\n",
    "result = df1.combine_first(df2)\n",
    "print(result)"
   ]
  },
  {
   "cell_type": "markdown",
   "id": "bfe1b876",
   "metadata": {},
   "source": [
    "示例1：以下是关于运动会成绩的示例场景，其中使用了 combine_first 方法来整合两个数据源，并填充缺失值，以展示不同项目的成绩情况\n",
    "r1和r2 是两个数据源，分别包含不同项目的运动会排名信息。通过 combine_first 方法，我们将这两个数据源按项目名称合并，保留尽可能完整的排名信息，得到了一个包含了项目名称和排名的 combined数据框架。"
   ]
  },
  {
   "cell_type": "code",
   "execution_count": 11,
   "id": "b581f76b",
   "metadata": {},
   "outputs": [
    {
     "name": "stdout",
     "output_type": "stream",
     "text": [
      "      项目      成绩\n",
      "0  1000m  236.15\n",
      "1   100m   11.53\n",
      "2   200m    4.00\n",
      "3     跳远     NaN\n"
     ]
    }
   ],
   "source": [
    "import pandas as pd\n",
    "import numpy as np\n",
    "\n",
    "# 示例数据：假设有两个数据源，每个数据源包含不同项目的运动会成绩信息\n",
    "r1 = pd.DataFrame({\n",
    "    '项目': ['100m', '200m', '1000m'],\n",
    "    '成绩': [11.53, np.nan, 236.15]\n",
    "})\n",
    "\n",
    "r2 = pd.DataFrame({\n",
    "    '项目': ['100m', '200m', '跳远'],\n",
    "    '成绩': [2, 4, np.nan]\n",
    "})\n",
    "\n",
    "# 使用combine_first方法合并两个运动会排名数据源\n",
    "combined = r1.set_index('项目').combine_first(r2.set_index('项目')).reset_index()\n",
    "\n",
    "# 打印合并后的运动会排名数据集\n",
    "print(combined)"
   ]
  },
  {
   "cell_type": "markdown",
   "id": "53e17c18",
   "metadata": {},
   "source": [
    "2.pd.merge()\n",
    "可以根据一个或多个键将不同DataFrame中的行连接起来，类似于SQL中的JOIN操作。"
   ]
  },
  {
   "cell_type": "code",
   "execution_count": 6,
   "id": "d5bacd7e",
   "metadata": {
    "scrolled": false
   },
   "outputs": [
    {
     "name": "stdout",
     "output_type": "stream",
     "text": [
      "  key   A   B\n",
      "0  K0  A0  B0\n",
      "1  K1  A1  B1\n",
      "2  K2  A2  B2\n"
     ]
    }
   ],
   "source": [
    "import pandas as pd\n",
    "\n",
    "# 示例数据\n",
    "left = pd.DataFrame({'key': ['K0', 'K1', 'K2'],\n",
    "                     'A': ['A0', 'A1', 'A2']})\n",
    "right = pd.DataFrame({'key': ['K0', 'K1', 'K2'],\n",
    "                      'B': ['B0', 'B1', 'B2']})\n",
    "\n",
    "# 根据key列连接\n",
    "result = pd.merge(left, right, on='key')\n",
    "print(result)"
   ]
  },
  {
   "cell_type": "markdown",
   "id": "5cb3518f",
   "metadata": {},
   "source": [
    "示例1：假设有两个数据集，一个包含学生基本信息，另一个包含学生的各科成绩信息。我们可以使用 merge 函数基于学生的学号将这两个数据集连接起来，以便进行综合分析。\n",
    "  info 和 scores 是两个数据集，分别包含学生的基本信息和各科成绩信息。通过 pd.merge(info, scores, on='学号')，我们根据共同的键列’学号‘将这两个数据集连接起来，得到了一个包含学生基本信息和各科成绩的数据框架"
   ]
  },
  {
   "cell_type": "code",
   "execution_count": 13,
   "id": "74ee8c41",
   "metadata": {},
   "outputs": [
    {
     "name": "stdout",
     "output_type": "stream",
     "text": [
      "    学号  姓名  年级  科目  成绩\n",
      "0  111  张三  大一  实训  85\n",
      "1  222  李四  大一  计网  92\n",
      "2  333  王五  大三  导论  78\n"
     ]
    }
   ],
   "source": [
    "import pandas as pd\n",
    "\n",
    "# 假设学生基本信息和学生成绩信息数据集\n",
    "info = pd.DataFrame({\n",
    "    '学号': ['111', '222', '333'],\n",
    "    '姓名': ['张三', '李四', '王五'],\n",
    "    '年级': ['大一', '大一', '大三']\n",
    "})\n",
    "\n",
    "scores = pd.DataFrame({\n",
    "    '学号': ['111', '222', '333'],\n",
    "    '科目': ['实训', '计网', '导论'],\n",
    "    '成绩': [85, 92, 78]\n",
    "})\n",
    "\n",
    "# 使用merge根据StudentID连接学生基本信息和学生成绩信息\n",
    "merged = pd.merge(info, scores, on='学号')\n",
    "\n",
    "# 打印连接后的数据集\n",
    "print(merged)"
   ]
  },
  {
   "cell_type": "markdown",
   "id": "8d47b9bd",
   "metadata": {},
   "source": [
    "3.df.join() \n",
    "用于将两个具有相同或相似索引结构的DataFrame水平连接（按索引）。"
   ]
  },
  {
   "cell_type": "code",
   "execution_count": 5,
   "id": "67855403",
   "metadata": {},
   "outputs": [
    {
     "name": "stdout",
     "output_type": "stream",
     "text": [
      "     A   B   C   D\n",
      "K0  A0  B0  C0  D0\n",
      "K1  A1  B1  C1  D1\n",
      "K2  A2  B2  C2  D2\n"
     ]
    }
   ],
   "source": [
    "import pandas as pd\n",
    "\n",
    "# 示例数据\n",
    "left = pd.DataFrame({'A': ['A0', 'A1', 'A2'],\n",
    "                     'B': ['B0', 'B1', 'B2']},\n",
    "                    index=['K0', 'K1', 'K2'])\n",
    "right = pd.DataFrame({'C': ['C0', 'C1', 'C2'],\n",
    "                      'D': ['D0', 'D1', 'D2']},\n",
    "                     index=['K0', 'K1', 'K2'])\n",
    "# 水平连接\n",
    "result = left.join(right)\n",
    "print(result)"
   ]
  },
  {
   "cell_type": "markdown",
   "id": "888b1031",
   "metadata": {},
   "source": [
    "示例1：在处理销售数据时，需要将客户信息和订单信息进行关联。\n",
    "将客户信息和订单信息关联起来，以便进行分析或生成报告。使用 join 方法来实现这一点\n",
    "展示了如何将客户信息表和订单信息表进行关联，使得我们可以基于客户的特征（如姓名、年龄）来分析他们的订单信息（如产品、数量）"
   ]
  },
  {
   "cell_type": "code",
   "execution_count": null,
   "id": "5485b3ff",
   "metadata": {},
   "outputs": [],
   "source": [
    "import pandas as pd\n",
    "\n",
    "# 创建顾客信息表\n",
    "customers = pd.DataFrame({\n",
    "    '顾客序号': [1, 2, 3, 4],\n",
    "    '顾客姓名': ['王五', '石四', '悟空', '昊京'],\n",
    "    '顾客年龄': [35, 28, 40, 30]\n",
    "})\n",
    "customers.set_index('顾客序号', inplace=True)\n",
    "\n",
    "# 创建订单信息表\n",
    "orders = pd.DataFrame({\n",
    "    '订单号': [101, 102, 103, 104],\n",
    "    '顾客序号': [1, 3, 2, 4],\n",
    "    '产品': ['A', 'B', 'C', 'A'],\n",
    "    '数量': [2, 1, 3, 2]\n",
    "})\n",
    "orders.set_index('顾客序号', inplace=True)\n",
    "\n",
    "# 使用 join 方法进行客户信息和订单信息的关联\n",
    "joined = orders.join(customers, how='inner', lsuffix='_order', rsuffix='_customer')\n",
    "\n",
    "# 输出结果\n",
    "print(\"客户信息和订单信息关联结果：\")\n",
    "print(joined)"
   ]
  },
  {
   "cell_type": "markdown",
   "id": "a13e1326",
   "metadata": {},
   "source": [
    "4.df.merge_ordered() 方法执行有序的合并，类似于 pd.merge()，但是用于合并时间序列数据"
   ]
  },
  {
   "cell_type": "code",
   "execution_count": 2,
   "id": "5c2be071",
   "metadata": {},
   "outputs": [
    {
     "name": "stdout",
     "output_type": "stream",
     "text": [
      "         date  value_x  value_y\n",
      "0  2000-01-01      1.0      4.0\n",
      "1  2000-02-01      2.0      5.0\n",
      "2  2000-03-01      3.0      NaN\n",
      "3  2000-04-01      NaN      6.0\n"
     ]
    }
   ],
   "source": [
    "import pandas as pd\n",
    "\n",
    "# 示例数据\n",
    "left = pd.DataFrame({'date': ['2000-01-01', '2000-02-01', '2000-03-01'],\n",
    "                     'value': [1, 2, 3]})\n",
    "right = pd.DataFrame({'date': ['2000-01-01', '2000-02-01', '2000-04-01'],\n",
    "                      'value': [4, 5, 6]})\n",
    "\n",
    "# 按日期列合并有序数据\n",
    "result = pd.merge_ordered(left, right, on='date')\n",
    "print(result)"
   ]
  },
  {
   "cell_type": "markdown",
   "id": "135b787c",
   "metadata": {},
   "source": [
    "示例1：学生的学习进度追踪和课程完成情况分析。\n",
    "使用 merge_ordered() 方法将学生信息表和课程进度表按照学生ID进行有序合并，以便分析每位学生的课程进度情况"
   ]
  },
  {
   "cell_type": "code",
   "execution_count": 7,
   "id": "a5dc25b1",
   "metadata": {},
   "outputs": [
    {
     "name": "stdout",
     "output_type": "stream",
     "text": [
      "学生信息和课程进度关联结果：\n",
      "        入学时间  学号_x    姓名  成绩  学号_y  科目 完成情况\n",
      "0  2022.9.06     4    甲甲  85     4  高数  80%\n",
      "1  2022.9.10     1    张三  47     1  高数  50%\n",
      "2  2022.9.10     1    张三  47     1  英语  90%\n",
      "3  2022.9.11     2    李四  58     2  高数  75%\n",
      "4  2022.9.11     2    李四  58     3  大物  70%\n",
      "5  2022.9.13     3    王五  52     3  高数  60%\n"
     ]
    }
   ],
   "source": [
    "import pandas as pd\n",
    "\n",
    "# 学生信息表\n",
    "students = pd.DataFrame({\n",
    "    '入学时间':['2022.9.10','2022.9.11','2022.9.13','2022.9.06'],\n",
    "    '学号': [1, 2, 3, 4],\n",
    "    '姓名': [' 张三', ' 李四', ' 王五', '  甲甲'],\n",
    "    '成绩': ['47', '58', '52', '85']\n",
    "})\n",
    "students.set_index('入学时间', inplace=True)\n",
    "\n",
    "# 课程进度表\n",
    "course = pd.DataFrame({\n",
    "    '入学时间':['2022.9.10','2022.9.11','2022.9.13','2022.9.06','2022.9.10','2022.9.11'],\n",
    "    '学号': [1, 2, 3, 4, 1, 3],\n",
    "    '科目': ['高数', '高数', '高数', '高数', '英语', '大物'],\n",
    "    '完成情况': ['50%', '75%', '60%', '80%', '90%', '70%']\n",
    "})\n",
    "\n",
    "# 按学生ID有序合并学生信息和课程进度\n",
    "merged = pd.merge_ordered(students, course, on='入学时间')\n",
    "\n",
    "# 输出结果\n",
    "print(\"学生信息和课程进度关联结果：\")\n",
    "print(merged)\n"
   ]
  },
  {
   "cell_type": "markdown",
   "id": "844f4ce6",
   "metadata": {},
   "source": [
    "5.pd.concat() 可以沿着指定轴（默认是行轴）将多个DataFrame对象堆叠在一起。"
   ]
  },
  {
   "cell_type": "code",
   "execution_count": 4,
   "id": "950a22ce",
   "metadata": {
    "scrolled": true
   },
   "outputs": [
    {
     "name": "stdout",
     "output_type": "stream",
     "text": [
      "    A   B\n",
      "0  A0  B0\n",
      "1  A1  B1\n",
      "2  A2  B2\n",
      "0  A3  B3\n",
      "1  A4  B4\n",
      "2  A5  B5\n"
     ]
    }
   ],
   "source": [
    "import pandas as pd\n",
    "\n",
    "# 示例数据\n",
    "df1 = pd.DataFrame({'A': ['A0', 'A1', 'A2'],\n",
    "                    'B': ['B0', 'B1', 'B2']})\n",
    "df2 = pd.DataFrame({'A': ['A3', 'A4', 'A5'],\n",
    "                    'B': ['B3', 'B4', 'B5']})\n",
    "\n",
    "# 沿行轴堆叠\n",
    "result = pd.concat([df1, df2])\n",
    "print(result)"
   ]
  },
  {
   "cell_type": "markdown",
   "id": "dfc33357",
   "metadata": {},
   "source": [
    "示例1：假设有两个部门分别记录的销售数据，每个部门的数据存储在一个独立的文件或数据表中。我们可以使用 concat 函数将它们合并成一个整体的销售数据集，以便进行全面的分析和报告生成。\n",
    "  t1 和 t2 是两个部门的销售数据，每个数据框架包含了日期和销售额。通过 pd.concat()，可以将两个部门的数据在行轴上堆叠，得到了一个包含了所有销售数据的数据框架"
   ]
  },
  {
   "cell_type": "code",
   "execution_count": 12,
   "id": "3ef2f2a3",
   "metadata": {},
   "outputs": [
    {
     "name": "stdout",
     "output_type": "stream",
     "text": [
      "           日期  销售数据\n",
      "0  2024-01-01  1000\n",
      "1  2024-01-02  1500\n",
      "2  2024-01-03   800\n",
      "0  2024-01-01  1200\n",
      "1  2024-01-02  1300\n",
      "2  2024-01-03   900\n"
     ]
    }
   ],
   "source": [
    "import pandas as pd\n",
    "\n",
    "# 假设两个部门的销售数据\n",
    "t1 = pd.DataFrame({'日期': ['2024-01-01', '2024-01-02', '2024-01-03'],\n",
    "                            '销售数据': [1000, 1500, 800]})\n",
    "t2 = pd.DataFrame({'日期': ['2024-01-01', '2024-01-02', '2024-01-03'],\n",
    "                            '销售数据': [1200, 1300, 900]})\n",
    "\n",
    "# 使用concat合并两个部门的销售数据\n",
    "combined = pd.concat([t1, t2])\n",
    "\n",
    "# 打印合并后的销售数据\n",
    "print(combined)"
   ]
  }
 ],
 "metadata": {
  "kernelspec": {
   "display_name": "Python 3 (ipykernel)",
   "language": "python",
   "name": "python3"
  },
  "language_info": {
   "codemirror_mode": {
    "name": "ipython",
    "version": 3
   },
   "file_extension": ".py",
   "mimetype": "text/x-python",
   "name": "python",
   "nbconvert_exporter": "python",
   "pygments_lexer": "ipython3",
   "version": "3.9.13"
  }
 },
 "nbformat": 4,
 "nbformat_minor": 5
}
