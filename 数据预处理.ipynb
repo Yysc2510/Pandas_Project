{
 "cells": [
  {
   "cell_type": "code",
   "execution_count": null,
   "id": "c2bafea0-a42a-4733-a45b-7114cc985f62",
   "metadata": {},
   "outputs": [],
   "source": [
    "pd.read_csv()  \n",
    "- 读取存在的 CSV 文件，能正确加载数据。\n",
    "- 对于不同编码的 CSV 文件，能准确识别字符。\n",
    "- 对于包含各种数据类型的 CSV 文件，能正确解析。\n"
   ]
  },
  {
   "cell_type": "code",
   "execution_count": 1,
   "id": "2c54c9a0-0ea5-4c22-92bf-87b3814a278c",
   "metadata": {},
   "outputs": [
    {
     "ename": "SyntaxError",
     "evalue": "invalid non-printable character U+00A0 (743070543.py, line 1)",
     "output_type": "error",
     "traceback": [
      "\u001b[1;36m  Cell \u001b[1;32mIn[1], line 1\u001b[1;36m\u001b[0m\n\u001b[1;33m    data = pd.read_csv('D:\\\\python\\\\lianjia.csv', encoding='gbk')\u001b[0m\n\u001b[1;37m                                                                 ^\u001b[0m\n\u001b[1;31mSyntaxError\u001b[0m\u001b[1;31m:\u001b[0m invalid non-printable character U+00A0\n"
     ]
    }
   ],
   "source": [
    "import pandas as pd\n",
    "\n",
    "# 测试读取存在的 CSV 文件\n",
    "try:\n",
    "    data1 = pd.read_csv('D:\\\\python\\\\lianjia.csv', encoding='gbk')\n",
    "    print(\"成功读取存在的 CSV 文件\")\n",
    "except Exception as e:\n",
    "    print(\"读取存在的 CSV 文件出错:\", e)\n",
    "\n",
    "# 测试不同编码的 CSV 文件\n",
    "try:\n",
    "    data2 = pd.read_csv('D:\\\\python\\\\another_file.csv', encoding='utf-8')\n",
    "    print(\"能准确识别不同编码的 CSV 文件\")\n",
    "except Exception as e:\n",
    "    print(\"识别不同编码的 CSV 文件出错:\", e)\n",
    "\n",
    "# 测试包含各种数据类型的 CSV 文件\n",
    "try:\n",
    "    data3 = pd.read_csv('D:\\\\python\\\\mixed_types.csv')\n",
    "    print(\"能正确解析包含各种数据类型的 CSV 文件\")\n",
    "except Exception as e:\n",
    "    print(\"解析包含各种数据类型的 CSV 文件出错:\", e)\n"
   ]
  },
  {
   "cell_type": "markdown",
   "id": "ad8fd948-1114-4148-a716-195d92874c3b",
   "metadata": {},
   "source": [
    "data.dropna()\n",
    "- 当数据中有少量缺失值时，能成功删除。\n",
    "- 对于存在大量缺失值的情况，能按要求处理。\n",
    "- 处理后数据的形状和预期相符。"
   ]
  },
  {
   "cell_type": "code",
   "execution_count": null,
   "id": "2b22c686-f19f-4a05-85a0-62125517a3e8",
   "metadata": {
    "jp-MarkdownHeadingCollapsed": true
   },
   "outputs": [],
   "source": [
    "import pandas as pd\n",
    "\n",
    "yy#创建一个包含少量缺失值的数据框\n",
    "data = pd.DataFrame({\n",
    "    'A': [1, None, 3],\n",
    "    'B': [4, 5, None]\n",
    "})\n",
    "\n",
    "#测试少量缺失值删除\n",
    "data1 = data.dropna()\n",
    "if data1.shape == (1, 2):\n",
    "    print(\"当数据中有少量缺失值时，能成功删除\")\n",
    "else:\n",
    "    print(\"少量缺失值删除测试失败\")\n",
    "\n",
    "#创建一个包含大量缺失值的数据框\n",
    "data2 = pd.DataFrame({\n",
    "    'A': [None] * 5,\n",
    "    'B': [None] * 5\n",
    "})\n",
    "\n",
    "#测试大量缺失值处理\n",
    "data3 = data2.dropna()\n",
    "if data3.shape == (0, 2):\n",
    "    print(\"对于存在大量缺失值的情况，能按要求处理\")\n",
    "else:\n",
    "    print(\"大量缺失值处理测试失败\")\n",
    "\n",
    "#检查处理后形状是否符合预期\n",
    "if data1.shape == (1, 2) and data3.shape == (0, 2):\n",
    "    print(\"处理后数据的形状和预期相符\")\n",
    "else:\n",
    "    print(\"处理后形状不符合预期\")"
   ]
  },
  {
   "cell_type": "markdown",
   "id": "600222ed-59f8-4bea-8d30-3bad22dbcccf",
   "metadata": {},
   "source": [
    "pd.contat()\n",
    "- 连接两个数据框，能正确合并数据。\n",
    "- 当两个数据框列名不完全相同，能正确处理。\n",
    "- 对于不同行数的数据框，能准确连接。"
   ]
  },
  {
   "cell_type": "code",
   "execution_count": null,
   "id": "0a0cf063-a5e1-4e57-b3d7-387d3bfd5b61",
   "metadata": {},
   "outputs": [],
   "source": [
    "import pandas as pd\n",
    "\n",
    "# 创建两个数据框\n",
    "df1 = pd.DataFrame({'A': [1, 2], 'B': ['a', 'b']})\n",
    "df2 = pd.DataFrame({'A': [3, 4], 'C': ['c', 'd']})\n",
    "\n",
    "# 测试连接两个数据框\n",
    "result1 = pd.concat([df1, df2], axis=1)\n",
    "if result1.shape == (2, 3) and 'A' in result1.columns and 'B' in result1.columns and 'C' in result1.columns:\n",
    "    print(\"能正确合并数据\")\n",
    "else:\n",
    "    print(\"连接数据框测试失败\")\n",
    "\n",
    "# 创建两个列名不完全相同的数据框\n",
    "df3 = pd.DataFrame({'A': [5], 'B': ['e']})\n",
    "df4 = pd.DataFrame({'A': [6], 'D': ['f']})\n",
    "\n",
    "# 测试列名不完全相同的处理\n",
    "result2 = pd.concat([df3, df4], axis=1)\n",
    "if result2.shape == (1, 4) and 'A' in result2.columns and 'B' in result2.columns and 'D' in result2.columns:\n",
    "    print(\"当列名不完全相同时，能正确处理\")\n",
    "else:\n",
    "    print(\"列名不完全相同处理测试失败\")\n",
    "\n",
    "# 创建行数不同的数据框\n",
    "df5 = pd.DataFrame({'A': [7]})\n",
    "df6 = pd.DataFrame({'A': [8, 9]})\n",
    "\n",
    "# 测试不同行数的连接\n",
    "result3 = pd.concat([df5, df6], axis=0)\n",
    "if result3.shape == (3, 1):\n",
    "    print(\"对于不同行数的数据框，能准确连接\")\n",
    "else:\n",
    "    print(\"不同行数连接测试失败\")"
   ]
  },
  {
   "cell_type": "markdown",
   "id": "ef47fdfd-edeb-49fa-bd00-a4d15ef9a4f9",
   "metadata": {},
   "source": [
    "data.head()\n",
    "- 显示数据的前几行，能看到部分数据内容。\n",
    "- 对于较大的数据集，能快速查看头部信息。\n",
    "- 多次调用能稳定显示头部数据。"
   ]
  },
  {
   "cell_type": "code",
   "execution_count": null,
   "id": "9f6181c6-589f-4f35-810b-214941208b67",
   "metadata": {},
   "outputs": [],
   "source": [
    "import pandas as pd\n",
    "\n",
    "# 创建一个较大数据集\n",
    "data = pd.DataFrame({\n",
    "    'A': range(100),\n",
    "    'B': ['item_' + str(i) for i in range(100)]\n",
    "})\n",
    "\n",
    "# 测试显示头部信息\n",
    "print(\"第一次调用 head():\")\n",
    "print(data.head())\n",
    "print(\"第二次调用 head():\")\n",
    "print(data.head())\n",
    "print(\"第三次调用 head():\")\n",
    "print(data.head())"
   ]
  }
 ],
 "metadata": {
  "kernelspec": {
   "display_name": "Python 3 (ipykernel)",
   "language": "python",
   "name": "python3"
  },
  "language_info": {
   "codemirror_mode": {
    "name": "ipython",
    "version": 3
   },
   "file_extension": ".py",
   "mimetype": "text/x-python",
   "name": "python",
   "nbconvert_exporter": "python",
   "pygments_lexer": "ipython3",
   "version": "3.11.7"
  }
 },
 "nbformat": 4,
 "nbformat_minor": 5
}
