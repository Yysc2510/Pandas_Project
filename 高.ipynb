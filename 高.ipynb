{
 "cells": [
  {
   "metadata": {},
   "cell_type": "markdown",
   "source": [
    "1. pivot_table：透视表操作\n",
    "方法： 使用pivot_table方法可以根据一个或多个键对数据进行透视，类似于Excel中的透视表功能。\n",
    "\n",
    "示例代码： 创建一个透视表，计算不同产品在不同月份的销售额。"
   ],
   "id": "ec08a63b0b7369b6"
  },
  {
   "cell_type": "code",
   "id": "initial_id",
   "metadata": {
    "collapsed": true,
    "ExecuteTime": {
     "end_time": "2024-06-16T13:08:57.208852Z",
     "start_time": "2024-06-16T13:08:54.882198Z"
    }
   },
   "source": [
    "import pandas as pd\n",
    "\n",
    "# 创建一个DataFrame\n",
    "data = {\n",
    "    'Month': ['Jan', 'Jan', 'Feb', 'Feb', 'Jan', 'Feb'],\n",
    "    'Product': ['A', 'B', 'A', 'B', 'A', 'B'],\n",
    "    'Sales': [100, 200, 150, 250, 120, 220]\n",
    "}\n",
    "df = pd.DataFrame(data)\n",
    "\n",
    "# 创建透视表\n",
    "pivot_df = df.pivot_table(index='Month', columns='Product', values='Sales', aggfunc='sum')\n",
    "print(pivot_df)\n"
   ],
   "outputs": [
    {
     "name": "stdout",
     "output_type": "stream",
     "text": [
      "Product    A    B\n",
      "Month            \n",
      "Feb      150  470\n",
      "Jan      220  200\n"
     ]
    }
   ],
   "execution_count": 2
  },
  {
   "metadata": {},
   "cell_type": "markdown",
   "source": [
    "2. cut：数据分箱操作\n",
    "方法： 使用cut方法将连续的数值数据分成离散的区间（箱子）。\n",
    "\n",
    "示例代码： 对一个数据列进行分箱操作，并计算每个箱子中的数据数量。"
   ],
   "id": "49d9c5483e06ad0f"
  },
  {
   "metadata": {
    "ExecuteTime": {
     "end_time": "2024-06-16T13:10:13.776437Z",
     "start_time": "2024-06-16T13:10:13.765280Z"
    }
   },
   "cell_type": "code",
   "source": [
    "import pandas as pd\n",
    "\n",
    "# 创建一个DataFrame\n",
    "data = {\n",
    "    'Value': [10, 20, 30, 40, 50, 60, 70, 80, 90, 100]\n",
    "}\n",
    "df = pd.DataFrame(data)\n",
    "\n",
    "# 数据分箱\n",
    "bins = [0, 30, 60, 100]\n",
    "labels = ['Low', 'Medium', 'High']\n",
    "df['Bins'] = pd.cut(df['Value'], bins=bins, labels=labels, right=True)\n",
    "\n",
    "# 计算每个箱子中的数据数量\n",
    "bin_counts = df['Bins'].value_counts()\n",
    "print(bin_counts)\n"
   ],
   "id": "9b4aa0704ced1012",
   "outputs": [
    {
     "name": "stdout",
     "output_type": "stream",
     "text": [
      "Bins\n",
      "High      4\n",
      "Low       3\n",
      "Medium    3\n",
      "Name: count, dtype: int64\n"
     ]
    }
   ],
   "execution_count": 3
  },
  {
   "metadata": {},
   "cell_type": "markdown",
   "source": [
    "3. applymap：应用函数到数据框的每个元素\n",
    "方法： 使用applymap方法将函数应用到数据框的每个元素。\n",
    "\n",
    "示例代码： 将一个数据框中的所有元素转换为小写。"
   ],
   "id": "3c2d2546252d81ea"
  },
  {
   "metadata": {
    "ExecuteTime": {
     "end_time": "2024-06-16T13:12:02.350532Z",
     "start_time": "2024-06-16T13:12:02.343051Z"
    }
   },
   "cell_type": "code",
   "source": [
    "import pandas as pd\n",
    "\n",
    "# 创建一个DataFrame\n",
    "data = {\n",
    "    'A': ['Apple', 'Banana', 'Orange'],\n",
    "    'B': ['Cat', 'Dog', 'Elephant']\n",
    "}\n",
    "df = pd.DataFrame(data)\n",
    "\n",
    "# 使用DataFrame.apply和Series.map来转换为小写\n",
    "df_lower = df.apply(lambda x: x.map(lambda y: y.lower() if isinstance(y, str) else y))\n",
    "print(df_lower)\n"
   ],
   "id": "50f7e922e9514af2",
   "outputs": [
    {
     "name": "stdout",
     "output_type": "stream",
     "text": [
      "        A         B\n",
      "0   apple       cat\n",
      "1  banana       dog\n",
      "2  orange  elephant\n"
     ]
    }
   ],
   "execution_count": 5
  },
  {
   "metadata": {},
   "cell_type": "markdown",
   "source": [
    "4. pd.to_datetime：日期时间转换\n",
    "方法： 使用pd.to_datetime方法将字符串或数值转换为日期时间格式。\n",
    "\n",
    "示例代码： 将一个包含日期字符串的列转换为日期时间格式，并提取出年份。"
   ],
   "id": "75cb014ff8fa02a7"
  },
  {
   "metadata": {
    "ExecuteTime": {
     "end_time": "2024-06-16T13:12:07.593934Z",
     "start_time": "2024-06-16T13:12:07.580427Z"
    }
   },
   "cell_type": "code",
   "source": [
    "import pandas as pd\n",
    "\n",
    "# 创建一个DataFrame\n",
    "data = {\n",
    "    'Date': ['2023-01-01', '2024-02-15', '2025-03-30']\n",
    "}\n",
    "df = pd.DataFrame(data)\n",
    "\n",
    "# 将字符串转换为日期时间格式\n",
    "df['Date'] = pd.to_datetime(df['Date'])\n",
    "\n",
    "# 提取年份\n",
    "df['Year'] = df['Date'].dt.year\n",
    "print(df)\n"
   ],
   "id": "6cb38c6901509bc1",
   "outputs": [
    {
     "name": "stdout",
     "output_type": "stream",
     "text": [
      "        Date  Year\n",
      "0 2023-01-01  2023\n",
      "1 2024-02-15  2024\n",
      "2 2025-03-30  2025\n"
     ]
    }
   ],
   "execution_count": 6
  },
  {
   "metadata": {},
   "cell_type": "markdown",
   "source": [
    "5. stack 和 unstack：数据堆叠与解堆操作\n",
    "方法： 使用stack方法将数据框的列“堆叠”为多层索引的行，使用unstack方法将多层索引的行“解堆”为列。\n",
    "\n",
    "示例代码： 创建一个多层索引的数据框，并进行堆叠与解堆操作。"
   ],
   "id": "c4d047e01e98a3"
  },
  {
   "metadata": {
    "ExecuteTime": {
     "end_time": "2024-06-16T13:12:09.914285Z",
     "start_time": "2024-06-16T13:12:09.903509Z"
    }
   },
   "cell_type": "code",
   "source": [
    "import pandas as pd\n",
    "\n",
    "# 创建一个DataFrame\n",
    "data = {\n",
    "    'A': [1, 2, 3],\n",
    "    'B': [4, 5, 6],\n",
    "    'C': [7, 8, 9]\n",
    "}\n",
    "df = pd.DataFrame(data, index=['X', 'Y', 'Z'])\n",
    "\n",
    "# 将列堆叠为多层索引的行\n",
    "stacked_df = df.stack()\n",
    "print(stacked_df)\n",
    "\n",
    "# 解堆多层索引的行为列\n",
    "unstacked_df = stacked_df.unstack()\n",
    "print(unstacked_df)\n"
   ],
   "id": "2ade19d49d5ab0d7",
   "outputs": [
    {
     "name": "stdout",
     "output_type": "stream",
     "text": [
      "X  A    1\n",
      "   B    4\n",
      "   C    7\n",
      "Y  A    2\n",
      "   B    5\n",
      "   C    8\n",
      "Z  A    3\n",
      "   B    6\n",
      "   C    9\n",
      "dtype: int64\n",
      "   A  B  C\n",
      "X  1  4  7\n",
      "Y  2  5  8\n",
      "Z  3  6  9\n"
     ]
    }
   ],
   "execution_count": 7
  },
  {
   "metadata": {},
   "cell_type": "code",
   "outputs": [],
   "execution_count": null,
   "source": "",
   "id": "c4bbb8e3166cab0f"
  }
 ],
 "metadata": {
  "kernelspec": {
   "display_name": "Python 3",
   "language": "python",
   "name": "python3"
  },
  "language_info": {
   "codemirror_mode": {
    "name": "ipython",
    "version": 2
   },
   "file_extension": ".py",
   "mimetype": "text/x-python",
   "name": "python",
   "nbconvert_exporter": "python",
   "pygments_lexer": "ipython2",
   "version": "2.7.6"
  }
 },
 "nbformat": 4,
 "nbformat_minor": 5
}
