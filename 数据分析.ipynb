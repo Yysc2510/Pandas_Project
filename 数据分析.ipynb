{
 "cells": [
  {
   "cell_type": "code",
   "execution_count": 6,
   "id": "ce462d3f-d8be-490f-9cb5-fb79dccbb47b",
   "metadata": {},
   "outputs": [],
   "source": [
    "import pandas as pd\n",
    "import numpy as np"
   ]
  },
  {
   "cell_type": "code",
   "execution_count": 7,
   "id": "ff301c38-d42b-4182-9e07-ce0b0b560f04",
   "metadata": {},
   "outputs": [],
   "source": [
    "# 创建一个示例DataFrame\n",
    "np.random.seed(0)\n",
    "df = pd.DataFrame({\n",
    "    'Column': np.random.choice(['A', 'B', 'C', 'D'], size=100),\n",
    "    'NumericColumn': np.random.randn(100) * 100,\n",
    "    'Size': np.random.randint(0, 51, size=100)\n",
    "})"
   ]
  },
  {
   "cell_type": "markdown",
   "id": "1df33a03-bad8-4d08-985f-aaaa2d36c13c",
   "metadata": {},
   "source": [
    "1. describe()\r\n",
    "注释: describe() 方法提供了数据集中数值型列的描述性统计信息，如计数、平均值、标准差、最小值、四分位数和最大值。"
   ]
  },
  {
   "cell_type": "code",
   "execution_count": 12,
   "id": "d4b0b839-1534-4c4c-b24b-b82a265a6b5f",
   "metadata": {},
   "outputs": [
    {
     "name": "stdout",
     "output_type": "stream",
     "text": [
      "Describe Stats:\n",
      "        NumericColumn        Size\n",
      "count     100.000000  100.000000\n",
      "mean        6.218384   23.350000\n",
      "std        97.828718   13.731461\n",
      "min      -172.628260    0.000000\n",
      "25%       -67.695202   11.750000\n",
      "50%         5.405537   22.500000\n",
      "75%        71.220252   32.250000\n",
      "max       195.077540   50.000000\n",
      "\n",
      "Describe Stats:\n",
      "        NumericColumn        Size\n",
      "count     100.000000  100.000000\n",
      "mean        6.218384   23.350000\n",
      "std        97.828718   13.731461\n",
      "min      -172.628260    0.000000\n",
      "25%       -67.695202   11.750000\n",
      "50%         5.405537   22.500000\n",
      "75%        71.220252   32.250000\n",
      "max       195.077540   50.000000\n",
      "\n",
      "Mean and Std:\n",
      "        NumericColumn        Size\n",
      "count     100.000000  100.000000\n",
      "mean        6.218384   23.350000\n",
      "std        97.828718   13.731461\n",
      "min      -172.628260    0.000000\n",
      "25%       -67.695202   11.750000\n",
      "50%         5.405537   22.500000\n",
      "75%        71.220252   32.250000\n",
      "max       195.077540   50.000000\n",
      "\n",
      "Describe without NaN:\n",
      "        NumericColumn        Size\n",
      "count     100.000000  100.000000\n",
      "mean        6.218384   23.350000\n",
      "std        97.828718   13.731461\n",
      "min      -172.628260    0.000000\n",
      "25%       -67.695202   11.750000\n",
      "50%         5.405537   22.500000\n",
      "75%        71.220252   32.250000\n",
      "max       195.077540   50.000000\n"
     ]
    }
   ],
   "source": [
    "# 1. describe() - 获取数据集的描述性统计信息\n",
    "desc_stats = df.describe()\n",
    "print(\"Describe Stats:\\n\", desc_stats)\n",
    "\n",
    "# 实例1: 获取数据集的描述性统计信息\n",
    "desc_stats = df.describe()\n",
    "print(\"\\nDescribe Stats:\\n\", desc_stats)\n",
    "\n",
    "# 实例2: 只获取数据集的均值和标准差\n",
    "desc_stats_mean_std = df.describe(include=[np.number], exclude=[np.dtype(object).type])\n",
    "print(\"\\nMean and Std:\\n\", desc_stats_mean_std)\n",
    "\n",
    "# 实例3: 排除NaN值并获取描述性统计信息\n",
    "desc_stats_no_nan = df.dropna().describe()\n",
    "print(\"\\nDescribe without NaN:\\n\", desc_stats_no_nan)"
   ]
  },
  {
   "cell_type": "markdown",
   "id": "e71570aa-03b4-471f-b8fb-ba96633e70ad",
   "metadata": {},
   "source": [
    "2. value_counts()\r\n",
    "注释: value_counts() 方法返回数据集中某个列的值出现的次数。"
   ]
  },
  {
   "cell_type": "code",
   "execution_count": 13,
   "id": "f77b7357-d5e9-471a-9d3b-a16c306c7b54",
   "metadata": {},
   "outputs": [
    {
     "name": "stdout",
     "output_type": "stream",
     "text": [
      "\n",
      "Value Counts:\n",
      " Column\n",
      "D    32\n",
      "A    25\n",
      "B    24\n",
      "C    19\n",
      "Name: count, dtype: int64\n",
      "\n",
      "Value Counts:\n",
      " Column\n",
      "D    32\n",
      "A    25\n",
      "B    24\n",
      "C    19\n",
      "Name: count, dtype: int64\n",
      "\n",
      "Sorted Value Counts:\n",
      " Column\n",
      "D    32\n",
      "A    25\n",
      "B    24\n",
      "C    19\n",
      "Name: count, dtype: int64\n",
      "\n",
      "Counts Without NaN:\n",
      " Column\n",
      "D    32\n",
      "A    25\n",
      "B    24\n",
      "C    19\n",
      "Name: count, dtype: int64\n"
     ]
    }
   ],
   "source": [
    "# 2. value_counts() - 计算某列中每个值的出现次数\n",
    "value_counts = df['Column'].value_counts()\n",
    "print(\"\\nValue Counts:\\n\", value_counts)\n",
    "\n",
    "# 实例1: 计算某列中每个值的出现次数\n",
    "value_counts = df['Column'].value_counts()\n",
    "print(\"\\nValue Counts:\\n\", value_counts)\n",
    "\n",
    "# 实例2: 计算出现次数并排序\n",
    "sorted_counts = df['Column'].value_counts(ascending=False)\n",
    "print(\"\\nSorted Value Counts:\\n\", sorted_counts)\n",
    "\n",
    "# 实例3: 计算出现次数并去除NaN值\n",
    "counts_without_nan = df['Column'].value_counts(dropna=True)\n",
    "print(\"\\nCounts Without NaN:\\n\", counts_without_nan)"
   ]
  },
  {
   "cell_type": "markdown",
   "id": "95106d13-6d40-4841-90d7-5b8dd30ca909",
   "metadata": {},
   "source": [
    "3. cut()\r\n",
    "注释: cut() 方法将连续数值变量切分为多个区间（分箱），可以指定区间边界和标签。"
   ]
  },
  {
   "cell_type": "code",
   "execution_count": 15,
   "id": "49b3a009-972c-432f-8205-90810fee100c",
   "metadata": {},
   "outputs": [
    {
     "name": "stdout",
     "output_type": "stream",
     "text": [
      "\n",
      "Binned Column:\n",
      " Binned\n",
      "20-30    28\n",
      "10-20    22\n",
      "0-10     19\n",
      "40-50    15\n",
      "30-40    13\n",
      "Name: count, dtype: int64\n",
      "\n",
      "Binned with Default:\n",
      " BinnedDefault\n",
      "[20.0, 30.0)     27\n",
      "[0.0, 10.0)      21\n",
      "[10.0, 20.0)     21\n",
      "[30.0, 40.0)     16\n",
      "[40.0, 50.05)    15\n",
      "Name: count, dtype: int64\n",
      "\n",
      "Binned Upper:\n",
      " BinnedUpper\n",
      "20-30    28\n",
      "10-20    22\n",
      "0-10     19\n",
      "40+      15\n",
      "30-40    13\n",
      "Name: count, dtype: int64\n"
     ]
    }
   ],
   "source": [
    "# 3. cut() - 将连续数值变量切分为多个区间（分箱）\n",
    "# 实例1: 根据指定的区间划分数值列\n",
    "bins = [0, 10, 20, 30, 40, 50]\n",
    "labels = ['0-10', '10-20', '20-30', '30-40', '40-50']\n",
    "df['Binned'] = pd.cut(df['Size'], bins=bins, labels=labels)\n",
    "\n",
    "# 实例2: 使用默认的区间和标签\n",
    "# 这里需要指定bins的值，例如分箱数量为5\n",
    "df['BinnedDefault'] = pd.cut(df['Size'], bins=5, right=False)  # right=False 表示包含左区间，不包含右区间\n",
    "\n",
    "# 实例3: 包含区间的上界\n",
    "df['BinnedUpper'] = pd.cut(df['Size'], bins=[0, 10, 20, 30, 40, np.inf], labels=['0-10', '10-20', '20-30', '30-40', '40+'])\n",
    "\n",
    "# 打印分箱结果\n",
    "print(\"\\nBinned Column:\\n\", df['Binned'].value_counts())\n",
    "print(\"\\nBinned with Default:\\n\", df['BinnedDefault'].value_counts())\n",
    "print(\"\\nBinned Upper:\\n\", df['BinnedUpper'].value_counts())"
   ]
  },
  {
   "cell_type": "markdown",
   "id": "0891fbdb-124c-4b8c-8cc4-664a0a8ee16c",
   "metadata": {},
   "source": [
    "4. groupby()\r\n",
    "注释: groupby() 方法用于根据一个或多个键对数据进行分组。"
   ]
  },
  {
   "cell_type": "code",
   "execution_count": 18,
   "id": "ec7fcb87-6d1c-4aff-952b-1150a33a80a6",
   "metadata": {},
   "outputs": [
    {
     "name": "stdout",
     "output_type": "stream",
     "text": [
      "\n",
      "Grouped Mean:\n",
      " Column\n",
      "A    22.774037\n",
      "B    11.046260\n",
      "C     9.968720\n",
      "D   -12.563387\n",
      "Name: NumericColumn, dtype: float64\n",
      "\n",
      "Grouped Mean:\n",
      " Column\n",
      "A    22.774037\n",
      "B    11.046260\n",
      "C     9.968720\n",
      "D   -12.563387\n",
      "Name: NumericColumn, dtype: float64\n",
      "\n",
      "Multi Index Grouped:\n",
      " Column  Size \n",
      "A       0-25     16\n",
      "        25-50     8\n",
      "        50+       0\n",
      "B       0-25     10\n",
      "        25-50    14\n",
      "        50+       0\n",
      "C       0-25     11\n",
      "        25-50     7\n",
      "        50+       0\n",
      "D       0-25     16\n",
      "        25-50    15\n",
      "        50+       0\n",
      "dtype: int64\n"
     ]
    },
    {
     "name": "stderr",
     "output_type": "stream",
     "text": [
      "C:\\Users\\Lenovo\\AppData\\Local\\Temp\\ipykernel_32856\\863277874.py:10: FutureWarning: The default of observed=False is deprecated and will be changed to True in a future version of pandas. Pass observed=False to retain current behavior or observed=True to adopt the future default and silence this warning.\n",
      "  grouped = df.groupby(['Column', pd.cut(df['Size'], bins=[0, 25, 50, np.inf], labels=['0-25', '25-50', '50+'])]).size()\n"
     ]
    }
   ],
   "source": [
    "# 4. groupby() - 根据一个或多个键对数据进行分组\n",
    "grouped = df.groupby('Column')['NumericColumn'].mean()\n",
    "print(\"\\nGrouped Mean:\\n\", grouped)\n",
    "\n",
    "# 实例1: 根据某列的值对数据进行分组\n",
    "grouped = df.groupby('Column')['NumericColumn'].mean()\n",
    "print(\"\\nGrouped Mean:\\n\", grouped)\n",
    "\n",
    "# 实例2: 多级分组\n",
    "grouped = df.groupby(['Column', pd.cut(df['Size'], bins=[0, 25, 50, np.inf], labels=['0-25', '25-50', '50+'])]).size()\n",
    "print(\"\\nMulti Index Grouped:\\n\", grouped)"
   ]
  },
  {
   "cell_type": "markdown",
   "id": "5334f95c-5d05-4231-b584-55b400e06d76",
   "metadata": {},
   "source": [
    "5. mean()\r\n",
    "注释: mean() 方法计算分组后的平均值。"
   ]
  },
  {
   "cell_type": "code",
   "execution_count": 19,
   "id": "e2b467cc-b4d3-41c5-83c2-936490a8e145",
   "metadata": {},
   "outputs": [
    {
     "name": "stdout",
     "output_type": "stream",
     "text": [
      "\n",
      "Mean of Grouped Values:\n",
      " 8.083333333333334\n",
      "\n",
      "Mean Values:\n",
      " Column\n",
      "A    22.774037\n",
      "B    11.046260\n",
      "C     9.968720\n",
      "D   -12.563387\n",
      "Name: NumericColumn, dtype: float64\n"
     ]
    }
   ],
   "source": [
    "# 5. mean() - 计算分组后的平均值\n",
    "mean_values = grouped.mean()\n",
    "print(\"\\nMean of Grouped Values:\\n\", mean_values)\n",
    "\n",
    "# 实例1: 计算分组的平均值\n",
    "mean_values = df.groupby('Column')['NumericColumn'].mean()\n",
    "print(\"\\nMean Values:\\n\", mean_values)"
   ]
  },
  {
   "cell_type": "markdown",
   "id": "d85dfa52-f986-48f5-8d4e-d3c6047bc416",
   "metadata": {},
   "source": [
    "6. reset_index()\r\n",
    "注释: reset_index() 方法重置分组操作后的索引，将其转换回普通列。"
   ]
  },
  {
   "cell_type": "code",
   "execution_count": 20,
   "id": "04bb8d1a-713d-4734-bb71-011d1132b8d7",
   "metadata": {},
   "outputs": [
    {
     "name": "stdout",
     "output_type": "stream",
     "text": [
      "\n",
      "Reset Index:\n",
      "   Column  NumericColumn\n",
      "0      A      22.774037\n",
      "1      B      11.046260\n",
      "2      C       9.968720\n",
      "3      D     -12.563387\n",
      "\n",
      "Reset Index:\n",
      "   Column  NumericColumn\n",
      "0      A      22.774037\n",
      "1      B      11.046260\n",
      "2      C       9.968720\n",
      "3      D     -12.563387\n"
     ]
    }
   ],
   "source": [
    "# 6. reset_index() - 重置分组操作后的索引\n",
    "reset_df = mean_values.reset_index()\n",
    "print(\"\\nReset Index:\\n\", reset_df)\n",
    "\n",
    "# 实例1: 重置分组后的索引\n",
    "reset_df = mean_values.reset_index()\n",
    "print(\"\\nReset Index:\\n\", reset_df)"
   ]
  },
  {
   "cell_type": "code",
   "execution_count": null,
   "id": "a0d6428c-e44e-407e-afa9-b09e44f2a170",
   "metadata": {},
   "outputs": [],
   "source": []
  }
 ],
 "metadata": {
  "kernelspec": {
   "display_name": "Python 3 (ipykernel)",
   "language": "python",
   "name": "python3"
  },
  "language_info": {
   "codemirror_mode": {
    "name": "ipython",
    "version": 3
   },
   "file_extension": ".py",
   "mimetype": "text/x-python",
   "name": "python",
   "nbconvert_exporter": "python",
   "pygments_lexer": "ipython3",
   "version": "3.11.7"
  }
 },
 "nbformat": 4,
 "nbformat_minor": 5
}
