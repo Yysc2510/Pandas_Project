{
 "cells": [
  {
   "cell_type": "markdown",
   "id": "5bdb6821",
   "metadata": {},
   "source": [
    "1.pd.DataFrame.combine_first()\n",
    "用于填充缺失值，将传入的DataFrame的缺失值用调用者的DataFrame的非缺失值填充。"
   ]
  },
  {
   "cell_type": "code",
   "execution_count": 1,
   "id": "8fdbbf61",
   "metadata": {},
   "outputs": [
    {
     "name": "stdout",
     "output_type": "stream",
     "text": [
      "     A    B\n",
      "0  1.0  NaN\n",
      "1  2.0  5.0\n",
      "2  3.0  6.0\n"
     ]
    }
   ],
   "source": [
    "import pandas as pd\n",
    "import numpy as np\n",
    "\n",
    "# 示例数据\n",
    "df1 = pd.DataFrame({'A':[1, 2, np.nan],\n",
    "                 'B':[np.nan, 5, 6]})\n",
    "df2 = pd.DataFrame({'A':[5, np.nan, 3],\n",
    "                 'B':[np.nan, 7, np.nan]})\n",
    "\n",
    "# 使用df2的非缺失值填充df1的缺失值\n",
    "result = df1.combine_first(df2)\n",
    "print(result)"
   ]
  },
  {
   "cell_type": "markdown",
   "id": "53e17c18",
   "metadata": {},
   "source": [
    "2.pd.merge()\n",
    "可以根据一个或多个键将不同DataFrame中的行连接起来，类似于SQL中的JOIN操作。"
   ]
  },
  {
   "cell_type": "code",
   "execution_count": 3,
   "id": "d5bacd7e",
   "metadata": {},
   "outputs": [
    {
     "name": "stdout",
     "output_type": "stream",
     "text": [
      "  key   A   B\n",
      "0  K0  A0  B0\n",
      "1  K1  A1  B1\n",
      "2  K2  A2  B2\n"
     ]
    }
   ],
   "source": [
    "import pandas as pd\n",
    "\n",
    "# 示例数据\n",
    "left = pd.DataFrame({'key': ['K0', 'K1', 'K2'],\n",
    "                     'A': ['A0', 'A1', 'A2']})\n",
    "right = pd.DataFrame({'key': ['K0', 'K1', 'K2'],\n",
    "                      'B': ['B0', 'B1', 'B2']})\n",
    "\n",
    "# 根据key列连接\n",
    "result = pd.merge(left, right, on='key')\n",
    "print(result)"
   ]
  },
  {
   "cell_type": "markdown",
   "id": "8d47b9bd",
   "metadata": {},
   "source": [
    "3.df.join() \n",
    "用于将两个具有相同或相似索引结构的DataFrame水平连接（按索引）。"
   ]
  },
  {
   "cell_type": "code",
   "execution_count": 5,
   "id": "67855403",
   "metadata": {},
   "outputs": [
    {
     "name": "stdout",
     "output_type": "stream",
     "text": [
      "     A   B   C   D\n",
      "K0  A0  B0  C0  D0\n",
      "K1  A1  B1  C1  D1\n",
      "K2  A2  B2  C2  D2\n"
     ]
    }
   ],
   "source": [
    "import pandas as pd\n",
    "\n",
    "# 示例数据\n",
    "left = pd.DataFrame({'A': ['A0', 'A1', 'A2'],\n",
    "                     'B': ['B0', 'B1', 'B2']},\n",
    "                    index=['K0', 'K1', 'K2'])\n",
    "right = pd.DataFrame({'C': ['C0', 'C1', 'C2'],\n",
    "                      'D': ['D0', 'D1', 'D2']},\n",
    "                     index=['K0', 'K1', 'K2'])\n",
    "# 水平连接\n",
    "result = left.join(right)\n",
    "print(result)"
   ]
  },
  {
   "cell_type": "markdown",
   "id": "a13e1326",
   "metadata": {},
   "source": [
    "4.df.merge_ordered() 方法执行有序的合并，类似于 pd.merge()，但是用于合并时间序列数据"
   ]
  },
  {
   "cell_type": "code",
   "execution_count": 2,
   "id": "5c2be071",
   "metadata": {},
   "outputs": [
    {
     "name": "stdout",
     "output_type": "stream",
     "text": [
      "         date  value_x  value_y\n",
      "0  2000-01-01      1.0      4.0\n",
      "1  2000-02-01      2.0      5.0\n",
      "2  2000-03-01      3.0      NaN\n",
      "3  2000-04-01      NaN      6.0\n"
     ]
    }
   ],
   "source": [
    "import pandas as pd\n",
    "\n",
    "# 示例数据\n",
    "left = pd.DataFrame({'date': ['2000-01-01', '2000-02-01', '2000-03-01'],\n",
    "                     'value': [1, 2, 3]})\n",
    "right = pd.DataFrame({'date': ['2000-01-01', '2000-02-01', '2000-04-01'],\n",
    "                      'value': [4, 5, 6]})\n",
    "\n",
    "# 按日期列合并有序数据\n",
    "result = pd.merge_ordered(left, right, on='date')\n",
    "print(result)"
   ]
  },
  {
   "cell_type": "markdown",
   "id": "844f4ce6",
   "metadata": {},
   "source": [
    "5.pd.concat() 可以沿着指定轴（默认是行轴）将多个DataFrame对象堆叠在一起。"
   ]
  },
  {
   "cell_type": "code",
   "execution_count": 3,
   "id": "950a22ce",
   "metadata": {},
   "outputs": [
    {
     "name": "stdout",
     "output_type": "stream",
     "text": [
      "    A   B\n",
      "0  A0  B0\n",
      "1  A1  B1\n",
      "2  A2  B2\n",
      "0  A3  B3\n",
      "1  A4  B4\n",
      "2  A5  B5\n"
     ]
    }
   ],
   "source": [
    "import pandas as pd\n",
    "\n",
    "# 示例数据\n",
    "df1 = pd.DataFrame({'A': ['A0', 'A1', 'A2'],\n",
    "                    'B': ['B0', 'B1', 'B2']})\n",
    "df2 = pd.DataFrame({'A': ['A3', 'A4', 'A5'],\n",
    "                    'B': ['B3', 'B4', 'B5']})\n",
    "\n",
    "# 沿行轴堆叠\n",
    "result = pd.concat([df1, df2])\n",
    "print(result)"
   ]
  }
 ],
 "metadata": {
  "kernelspec": {
   "display_name": "Python 3 (ipykernel)",
   "language": "python",
   "name": "python3"
  },
  "language_info": {
   "codemirror_mode": {
    "name": "ipython",
    "version": 3
   },
   "file_extension": ".py",
   "mimetype": "text/x-python",
   "name": "python",
   "nbconvert_exporter": "python",
   "pygments_lexer": "ipython3",
   "version": "3.9.13"
  }
 },
 "nbformat": 4,
 "nbformat_minor": 5
}
