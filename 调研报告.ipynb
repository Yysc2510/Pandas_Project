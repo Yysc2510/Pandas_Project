{
 "cells": [
  {
   "cell_type": "markdown",
   "id": "f7b983e3-bac8-43f0-a686-fb3f4e5c7481",
   "metadata": {},
   "source": [
    "#PANDAS"
   ]
  },
  {
   "cell_type": "markdown",
   "id": "20746436-9ffe-43d2-8c59-c0acf4d32549",
   "metadata": {},
   "source": [
    "# PANDAS调研报告"
   ]
  },
  {
   "cell_type": "markdown",
   "id": "38447d5c-62d9-43ad-9775-0afced9aed83",
   "metadata": {},
   "source": [
    ">小组成员：\n",
    ">叶书辰\n",
    ">查城程\n",
    ">李乾哲\n",
    ">高祥博\n",
    ">姬凯\n",
    ">王进业\n",
    ">申泉流"
   ]
  },
  {
   "cell_type": "markdown",
   "id": "9625d923-ed45-4768-b434-92228e7d62c3",
   "metadata": {},
   "source": [
    "# 项目目录\n",
    "## 一.pandas包介绍\n",
    "### 1.基本背景\n",
    "### 2.发展历史\n",
    "### 3.安装方式\n",
    "\n",
    "## 二.用途介绍\n",
    "### 1.数据预处理\n",
    "### 2.数据分析\n",
    "### 3.数据可视化\n",
    "### 4.\n",
    "### 5. \n",
    "\n",
    "\n",
    "## 三.问题解决\n",
    "### 1.问题选择\n",
    "### 2.内容分工\n",
    "### 3.代码实现"
   ]
  },
  {
   "cell_type": "markdown",
   "id": "fb18b9a5-c3dd-4208-b3f3-b6bb1f0d4eff",
   "metadata": {},
   "source": [
    "## 一. pandas包介绍间数据，进行时序计算。"
   ]
  },
  {
   "cell_type": "markdown",
   "id": "1fb96930-e78f-4fe9-8383-f269e0e8406f",
   "metadata": {},
   "source": [
    "\r\n",
    "### 1. 基本背景\r\n",
    "pandas是一个用于数据操作和分析的开源Python库。它提供了高效的数据结构和数据分析工具，特别适用于处理表格数据、时间序列数据和其他形式的观测数据。pandas的核心数据结构是DataFrame，它类似于电子表格或SQL表格，具有行和列。\r\n",
    "\r\n",
    "pandas支持以下主要功能：\r\n",
    "\r\n",
    "- 数据清洗：处理缺失数据、重复数据和数据转换。\r\n",
    "- 数据整合：合并、连接和重塑数据。\r\n",
    "- 数据分析：计算统计数据、分组和聚合。\r\n",
    "- 数据可视化：集成matplotlib库进行数据可视化。\r\n",
    "- 时间序列分析：处理日期时间数据，进行时序计算。"
   ]
  },
  {
   "cell_type": "markdown",
   "id": "94a5ca56-9fd9-467f-a6b5-0aae3a0bd649",
   "metadata": {},
   "source": [
    "### 2. 发展历史\r\n",
    "pandas由Wes McKinney于2008年开发，最初用于解决金融数据分析中的数据处理需求。最早的版本是为了处理金融数据而开发的，旨在提供比Excel和其他电子表格工具更强大的数据分析能力。自那时以来，pandas迅速发展，成为Python数据科学生态系统中的重要组成部分。随着社区的贡献和扩展，pandas的功能不断增强，支持的数据格式和处理能力不断提高。\r\n",
    "\r\n",
    "关键发展里程碑：\r\n",
    "\r\n",
    "- 2009年：发布第一个公开版本，迅速在金融领域获得关注。\r\n",
    "- 2012年：发布了pandas的第一个正式版本0.10.1。\r\n",
    "- 2015年：pandas成为NumFOCUS资助项目，进一步推动了其发展。\r\n",
    "- 2020年：发布了1.0版本，标志着pandas进入一个更加成熟和稳定的阶段。\r\n"
   ]
  },
  {
   "cell_type": "markdown",
   "id": "94c0d22a-b294-473c-be34-7ce5410a864e",
   "metadata": {},
   "source": [
    "### 3. 安装方式\r\n",
    "要安装pandas，可以使用Python的包管理工具pip或Anaconda。以下是详细的安装步骤："
   ]
  },
  {
   "cell_type": "markdown",
   "id": "2b01802e-96d1-45ca-81ea-573b74fa6a65",
   "metadata": {},
   "source": [
    "#### 使用pip安装"
   ]
  },
  {
   "cell_type": "code",
   "execution_count": 11,
   "id": "e94852d8-53fa-4525-b7ef-14e71d3a654a",
   "metadata": {},
   "outputs": [
    {
     "name": "stdout",
     "output_type": "stream",
     "text": [
      "Requirement already satisfied: pandas in d:\\anaconda3\\lib\\site-packages (2.1.4)\n",
      "Requirement already satisfied: numpy<2,>=1.23.2 in d:\\anaconda3\\lib\\site-packages (from pandas) (1.26.4)\n",
      "Requirement already satisfied: python-dateutil>=2.8.2 in d:\\anaconda3\\lib\\site-packages (from pandas) (2.8.2)\n",
      "Requirement already satisfied: pytz>=2020.1 in d:\\anaconda3\\lib\\site-packages (from pandas) (2023.3.post1)\n",
      "Requirement already satisfied: tzdata>=2022.1 in d:\\anaconda3\\lib\\site-packages (from pandas) (2023.3)\n",
      "Requirement already satisfied: six>=1.5 in d:\\anaconda3\\lib\\site-packages (from python-dateutil>=2.8.2->pandas) (1.16.0)\n",
      "Note: you may need to restart the kernel to use updated packages.\n"
     ]
    }
   ],
   "source": [
    "pip install pandas #下载慢可用镜像网站加速pip install pandas -i https://pypi.tuna.tsinghua.edu.cn/simple"
   ]
  },
  {
   "cell_type": "markdown",
   "id": "18d59ead-994b-422f-97e1-842d440f25a5",
   "metadata": {},
   "source": [
    "安装完成后，可以通过以下命令验证安装："
   ]
  },
  {
   "cell_type": "code",
   "execution_count": 12,
   "id": "be43f505-9273-4387-b908-9db63fe2ed79",
   "metadata": {},
   "outputs": [
    {
     "name": "stdout",
     "output_type": "stream",
     "text": [
      "2.1.4\n"
     ]
    }
   ],
   "source": [
    "import pandas as pd\n",
    "print(pd.__version__)"
   ]
  },
  {
   "cell_type": "markdown",
   "id": "6531491e-e3ec-4071-b229-9c85e1f3e723",
   "metadata": {},
   "source": [
    "##使用Anaconda安装"
   ]
  }
 ],
 "metadata": {
  "kernelspec": {
   "display_name": "Python 3 (ipykernel)",
   "language": "python",
   "name": "python3"
  },
  "language_info": {
   "codemirror_mode": {
    "name": "ipython",
    "version": 3
   },
   "file_extension": ".py",
   "mimetype": "text/x-python",
   "name": "python",
   "nbconvert_exporter": "python",
   "pygments_lexer": "ipython3",
   "version": "3.11.7"
  }
 },
 "nbformat": 4,
 "nbformat_minor": 5
}
