{
 "cells": [
  {
   "cell_type": "markdown",
   "id": "f7b983e3-bac8-43f0-a686-fb3f4e5c7481",
   "metadata": {},
   "source": [
    "#PANDAS"
   ]
  },
  {
   "cell_type": "markdown",
   "id": "20746436-9ffe-43d2-8c59-c0acf4d32549",
   "metadata": {},
   "source": [
    "# PANDAS调研报告"
   ]
  },
  {
   "cell_type": "markdown",
   "id": "38447d5c-62d9-43ad-9775-0afced9aed83",
   "metadata": {},
   "source": [
    ">小组成员：\n",
    ">叶书辰\n",
    ">查城程\n",
    ">李乾哲\n",
    ">高祥博\n",
    ">姬凯\n",
    ">王进业\n",
    ">申泉流"
   ]
  },
  {
   "cell_type": "markdown",
   "id": "9625d923-ed45-4768-b434-92228e7d62c3",
   "metadata": {},
   "source": [
    "# 项目目录\n",
    "## 一.pandas包介绍\n",
    "### 1.基本背景\n",
    "### 2.发展历史\n",
    "### 3.安装方式\n",
    "\n",
    "## 二.用途介绍\n",
    "### 1.1.数据预处理     数据预处理.ipynb     王进业\n",
    "### 2.数据分析         数据分析.ipynb       查城程\n",
    "### 3.数据可视化       数据链接与合并3.ipynb李乾哲\n",
    "### 4.数据可视化       plot.ipynb           姬凯\n",
    "### 5. 数据输入输出    in and put out.ipynb高祥博 \n",
    "\n",
    "\n",
    "## 三.问题解决\n",
    "### 1.问题选择\n",
    "### 2.代码实现"
   ]
  },
  {
   "cell_type": "markdown",
   "id": "fb18b9a5-c3dd-4208-b3f3-b6bb1f0d4eff",
   "metadata": {},
   "source": [
    "## 一. pandas包介绍"
   ]
  },
  {
   "cell_type": "markdown",
   "id": "f8021d95-0453-45a7-a93a-c1c94d912b67",
   "metadata": {},
   "source": [
    "## 1. 基本背景\n",
    "pandas是一个用于数据操作和分析的开源Python库。它提供了高效的数据结构和数据分析工具，特别适用于处理表格数据、时间序列数据和其他形式的观测数据。pandas的核心数据结构是DataFrame，它类似于电子表格或SQL表格，具有行和列。\n",
    "## pandas支持以下主要功能：wn\r\n",
    "1# 一、生成数据表\r\n",
    "```python\r\n",
    "df = pd.DataFrame(pd.read_csv('name.csv',header=1))\r\n",
    "`#`2\r\n",
    "\r\n",
    "## 二、数据表信息查看\r\n",
    "维度查看：`df.shape`\r\n",
    "定位表格中的指定元素：`print(df.at['行标签名', '列标签名'])`；`print(df.iat['行索引号', '列索引号'])`\r\n",
    "查看某一列的所有值：`df[\"姓名\"].#v3lues`\r\n",
    "\r\n",
    "## 三、数据表清洗\r\n",
    "用数字0填充空值：`df.fillna(value=0)`\r\n",
    "清除city字段的字符空格：`df['city']=df['city'].map(str.strip)`\r\n",
    "大小写转换：`df['city']=df['city'].str.lower()`\r\n",
    "更改数据格式：`df['price'].a#s4ype('int')`\r\n",
    "\r\n",
    "## 四、数据预处理\r\n",
    "数据表合并：`result = df1.append(df2)`\r\n",
    "按照特定列的值排序：`df_inner.sort_values(by=['age'])`\r\n",
    "对复合多个条件的数据进行分组标记：`df_inner.loc[(df_inner['city'] == 'beijing') & (df_inner['price'] >=# 5000), 'sign']=1`\r\n",
    "\r\n",
    "## 五、数据提取\r\n",
    "按索引提取单行的数值：`df_inner.loc[3]`\r\n",
    "重设索引：`df_inner.reset_index()`\r\n",
    "提取4日之前的所有数据：`df_inner[:'2013-01-04']`\r\n",
    "判断city列的值是否为北京：`df_inner['c#i6y'].isin(['beijing'])`\r\n",
    "\r\n",
    "## 六、数据筛选\r\n",
    "使用“与”“或”“非”进行筛选：`df_inner.loc[(df_inner['age'] > 25) & (df_inner['city'] == 'beijing'), ['id','city','age','category','gender']]`\r\n",
    "筛选后求和：`df_inner.query('city == [\"beijing\"#,7\"shanghai\"]').price.sum()`\r\n",
    "\r\n",
    "## 七、数据汇总\r\n",
    "`df#_8nner.groupby('city').count()`\r\n",
    "\r\n",
    "## 八、数据统计\r\n",
    "数据采样：`df_inner.sample(n=3)`\r\n",
    "计算列的标准差：`df_inner['price'].std()`\r\n",
    "协方差：`df_inne#r9cov()`\r\n",
    "数据表的相关性分析：`df_inner.corr()`\r\n",
    "\r\n",
    "## 九、数据输出\r\n",
    "可输出为excel文件与csv文件：`df_inner.to_excel('excel_to_python.xlsx', sheet_name='bluewhale_cc`\r\n",
    "\r\n",
    "将上述文本复制粘贴到Jupyter Notebook的Markdown单元格中即可。\n",
    "10、数据表的相关性分析\r\n",
    "\r\n",
    "九、数据输出\r\n",
    "\r\n",
    "1、写入Excel\r\n",
    "\r\n",
    "2、写入到CSV\r\n",
    "\r\n",
    "数据，进行时序计算。"
   ]
  },
  {
   "cell_type": "markdown",
   "id": "eb1456d8-9a7f-4b5c-9997-f728d7de0d36",
   "metadata": {},
   "source": [
    "## 1. 基本背景\n",
    "pandas是一个用于数据操作和分析的开源Python库。它提供了高效的数据结构和数据分析工具，特别适用于处理表格数据、时间序列数据和其他形式的观测数据。pandas的核心数据结构是DataFrame，它类似于电子表格或SQL表格，具有行和列。\n",
    "## pandas支持以下主要功能：\n",
    "## 1、生成数据表\n",
    "```python\n",
    "df = pd.DataFrame(pd.read_csv('name.csv',header=1))\n",
    "```\n",
    "\n",
    "### 2、数据表信息查看\n",
    "维度查看：`df.shape`\n",
    "定位表格中的指定元素：`print(df.at['行标签名', '列标签名'])`；`print(df.iat['行索引号', '列索引号'])`\n",
    "查看某一列的所有值：`df[\"姓名\"].values`\n",
    "\n",
    "### 3、数据表清洗\n",
    "用数字0填充空值：`df.fillna(value=0)`\n",
    "清除city字段的字符空格：`df['city']=df['city'].map(str.strip)`\n",
    "大小写转换：`df['city']=df['city'].str.lower()`\n",
    "更改数据格式：`df['price'].astype('int')`\n",
    "\n",
    "### 4、数据预处理\n",
    "数据表合并：`result = df1.append(df2)`\n",
    "按照特定列的值排序：`df_inner.sort_values(by=['age'])`\n",
    "对复合多个条件的数据进行分组标记：`df_inner.loc[(df_inner['city'] == 'beijing') & (df_inner['price'] >= 4000), 'sign']=1`\n",
    "\n",
    "### 5、数据提取\n",
    "按索引提取单行的数值：`df_inner.loc[3]`\n",
    "重设索引：`df_inner.reset_index()`\n",
    "提取4日之前的所有数据：`df_inner[:'2013-01-04']`\n",
    "判断city列的值是否为北京：`df_inner['city'].isin(['beijing'])`\n",
    "\n",
    "### 6、数据筛选\n",
    "使用“与”“或”“非”进行筛选：`df_inner.loc[(df_inner['age'] > 25) & (df_inner['city'] == 'beijing'), ['id','city','age','category','gender']]`\n",
    "筛选后求和：`df_inner.query('city == [\"beijing\", \"shanghai\"]').price.sum()`\n",
    "\n",
    "### 7、数据汇总\n",
    "`df_inner.groupby('city').count()`\n",
    "\n",
    "### 8、数据统计\n",
    "数据采样：`df_inner.sample(n=3)`\n",
    "计算列的标准差：`df_inner['price'].std()`\n",
    "协方差：`df_inner.cov()`\n",
    "数据表的相关性分析：`df_inner.corr()`\n",
    "\n",
    "### 9、数据输出\n",
    "可输出为excel文件与csv文件：`df_inner.to_excel('excel_to_python.xlsx', sheet_name='bluewhale_cc')`；`df_inner.to_csv('excel_to_python.csv')`和稳定的阶段。\r\n"
   ]
  },
  {
   "cell_type": "markdown",
   "id": "94a5ca56-9fd9-467f-a6b5-0aae3a0bd649",
   "metadata": {},
   "source": [
    "### 2. 发展历史\r\n",
    "pandas由Wes McKinney于2008年开发，最初用于解决金融数据分析中的数据处理需求。最早的版本是为了处理金融数据而开发的，旨在提供比Excel和其他电子表格工具更强大的数据分析能力。自那时以来，pandas迅速发展，成为Python数据科学生态系统中的重要组成部分。随着社区的贡献和扩展，pandas的功能不断增强，支持的数据格式和处理能力不断提高。\r\n",
    "\r\n",
    "关键发展里程碑：\r\n",
    "\r\n",
    "- 2009年：发布第一个公开版本，迅速在金融领域获得关注。\r\n",
    "- 2012年：发布了pandas的第一个正式版本0.10.1。\r\n",
    "- 2015年：pandas成为NumFOCUS资助项目，进一步推动了其发展。\r\n",
    "- 2020年：发布了1.0版本，标志着pandas进入一个更加成熟和稳定的阶段。\r\n"
   ]
  },
  {
   "cell_type": "markdown",
   "id": "94c0d22a-b294-473c-be34-7ce5410a864e",
   "metadata": {},
   "source": [
    "### 3. 安装方式\r\n",
    "要安装pandas，可以使用Python的包管理工具pip或Anaconda。以下是详细的安装步骤："
   ]
  },
  {
   "cell_type": "markdown",
   "id": "2b01802e-96d1-45ca-81ea-573b74fa6a65",
   "metadata": {},
   "source": [
    "#### 使用pip安装"
   ]
  },
  {
   "cell_type": "code",
   "execution_count": 11,
   "id": "e94852d8-53fa-4525-b7ef-14e71d3a654a",
   "metadata": {},
   "outputs": [
    {
     "name": "stdout",
     "output_type": "stream",
     "text": [
      "Requirement already satisfied: pandas in d:\\anaconda3\\lib\\site-packages (2.1.4)\n",
      "Requirement already satisfied: numpy<2,>=1.23.2 in d:\\anaconda3\\lib\\site-packages (from pandas) (1.26.4)\n",
      "Requirement already satisfied: python-dateutil>=2.8.2 in d:\\anaconda3\\lib\\site-packages (from pandas) (2.8.2)\n",
      "Requirement already satisfied: pytz>=2020.1 in d:\\anaconda3\\lib\\site-packages (from pandas) (2023.3.post1)\n",
      "Requirement already satisfied: tzdata>=2022.1 in d:\\anaconda3\\lib\\site-packages (from pandas) (2023.3)\n",
      "Requirement already satisfied: six>=1.5 in d:\\anaconda3\\lib\\site-packages (from python-dateutil>=2.8.2->pandas) (1.16.0)\n",
      "Note: you may need to restart the kernel to use updated packages.\n"
     ]
    }
   ],
   "source": [
    "pip install pandas #下载慢可用镜像网站加速pip install pandas -i https://pypi.tuna.tsinghua.edu.cn/simple"
   ]
  },
  {
   "cell_type": "markdown",
   "id": "18d59ead-994b-422f-97e1-842d440f25a5",
   "metadata": {},
   "source": [
    "安装完成后，可以通过以下命令验证安装："
   ]
  },
  {
   "cell_type": "code",
   "execution_count": 12,
   "id": "be43f505-9273-4387-b908-9db63fe2ed79",
   "metadata": {},
   "outputs": [
    {
     "name": "stdout",
     "output_type": "stream",
     "text": [
      "2.1.4\n"
     ]
    }
   ],
   "source": [
    "import pandas as pd\n",
    "print(pd.__version__)"
   ]
  },
  {
   "cell_type": "markdown",
   "id": "6531491e-e3ec-4071-b229-9c85e1f3e723",
   "metadata": {},
   "source": [
    "## 二：用途介绍"
   ]
  },
  {
   "cell_type": "markdown",
   "id": "5bdabc30-7917-4aba-a055-7d2d1e7596d6",
   "metadata": {},
   "source": [
    "### 1，问题选择：\n",
    "基于pandas善于数据处理及其核心数据结构DataFrame与numpy相同的数组结构，我们将问题定位在大量数组类数据集的分析建议方面，最初考虑的有分析病人身体情况，发现不同群体的健康趋势；对客户基于年龄、性别、收入进行细分，制定有针对性的营销策略；分析学生的成绩、出勤率、家庭背景等数据，以发现影响学生表现的因素；通过房屋信息预估房价等方面，最终基于数据集选择了房价预估。"
   ]
  }
 ],
 "metadata": {
  "kernelspec": {
   "display_name": "Python 3 (ipykernel)",
   "language": "python",
   "name": "python3"
  },
  "language_info": {
   "codemirror_mode": {
    "name": "ipython",
    "version": 3
   },
   "file_extension": ".py",
   "mimetype": "text/x-python",
   "name": "python",
   "nbconvert_exporter": "python",
   "pygments_lexer": "ipython3",
   "version": "3.11.7"
  }
 },
 "nbformat": 4,
 "nbformat_minor": 5
}
