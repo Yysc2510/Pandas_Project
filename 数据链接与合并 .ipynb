{
 "cells": [
  {
   "cell_type": "markdown",
   "id": "5bdb6821",
   "metadata": {},
   "source": [
    "1.pd.DataFrame.combine_first()\n",
    "用于填充缺失值，将传入的DataFrame的缺失值用调用者的DataFrame的非缺失值填充。"
   ]
  },
  {
   "cell_type": "code",
   "execution_count": 1,
   "id": "8fdbbf61",
   "metadata": {},
   "outputs": [
    {
     "name": "stdout",
     "output_type": "stream",
     "text": [
      "     A    B\n",
      "0  1.0  NaN\n",
      "1  2.0  5.0\n",
      "2  3.0  6.0\n"
     ]
    }
   ],
   "source": [
    "import pandas as pd\n",
    "import numpy as np\n",
    "\n",
    "# 示例数据\n",
    "df1 = pd.DataFrame({'A':[1, 2, np.nan],\n",
    "                 'B':[np.nan, 5, 6]})\n",
    "df2 = pd.DataFrame({'A':[5, np.nan, 3],\n",
    "                 'B':[np.nan, 7, np.nan]})\n",
    "\n",
    "# 使用df2的非缺失值填充df1的缺失值\n",
    "result = df1.combine_first(df2)\n",
    "print(result)"
   ]
  },
  {
   "cell_type": "markdown",
   "id": "ebea772b",
   "metadata": {},
   "source": [
    "示例1：以下是关于运动会成绩的示例场景，其中使用了 combine_first 方法来整合两个数据源，并填充缺失值，以展示不同项目的成绩情况\n",
    "r1和r2 是两个数据源，分别包含不同项目的运动会排名信息。通过 combine_first 方法，我们将这两个数据源按项目名称合并，保留尽可能完整的排名信息，得到了一个包含了项目名称和排名的 combined数据框架。"
   ]
  },
  {
   "cell_type": "code",
   "execution_count": 11,
   "id": "1eb5683f",
   "metadata": {},
   "outputs": [
    {
     "name": "stdout",
     "output_type": "stream",
     "text": [
      "      项目      成绩\n",
      "0  1000m  236.15\n",
      "1   100m   11.53\n",
      "2   200m    4.00\n",
      "3     跳远     NaN\n"
     ]
    }
   ],
   "source": [
    "import pandas as pd\n",
    "import numpy as np\n",
    "\n",
    "# 示例数据：假设有两个数据源，每个数据源包含不同项目的运动会成绩信息\n",
    "r1 = pd.DataFrame({\n",
    "    '项目': ['100m', '200m', '1000m'],\n",
    "    '成绩': [11.53, np.nan, 236.15]\n",
    "})\n",
    "\n",
    "r2 = pd.DataFrame({\n",
    "    '项目': ['100m', '200m', '跳远'],\n",
    "    '成绩': [2, 4, np.nan]\n",
    "})\n",
    "\n",
    "# 使用combine_first方法合并两个运动会排名数据源\n",
    "combined = r1.set_index('项目').combine_first(r2.set_index('项目')).reset_index()\n",
    "\n",
    "# 打印合并后的运动会排名数据集\n",
    "print(combined)"
   ]
  },
  {
   "cell_type": "markdown",
   "id": "53e17c18",
   "metadata": {},
   "source": [
    "2.pd.merge()\n",
    "可以根据一个或多个键将不同DataFrame中的行连接起来，类似于SQL中的JOIN操作。"
   ]
  },
  {
   "cell_type": "code",
   "execution_count": 6,
   "id": "d5bacd7e",
   "metadata": {
    "scrolled": false
   },
   "outputs": [
    {
     "name": "stdout",
     "output_type": "stream",
     "text": [
      "  key   A   B\n",
      "0  K0  A0  B0\n",
      "1  K1  A1  B1\n",
      "2  K2  A2  B2\n"
     ]
    }
   ],
   "source": [
    "import pandas as pd\n",
    "\n",
    "# 示例数据\n",
    "left = pd.DataFrame({'key': ['K0', 'K1', 'K2'],\n",
    "                     'A': ['A0', 'A1', 'A2']})\n",
    "right = pd.DataFrame({'key': ['K0', 'K1', 'K2'],\n",
    "                      'B': ['B0', 'B1', 'B2']})\n",
    "\n",
    "# 根据key列连接\n",
    "result = pd.merge(left, right, on='key')\n",
    "print(result)"
   ]
  },
  {
   "cell_type": "markdown",
   "id": "6397e26b",
   "metadata": {},
   "source": [
    "示例1：假设有两个数据集，一个包含学生基本信息，另一个包含学生的各科成绩信息。我们可以使用 merge 函数基于学生的学号将这两个数据集连接起来，以便进行综合分析。\n",
    "  info 和 scores 是两个数据集，分别包含学生的基本信息和各科成绩信息。通过 pd.merge(info, scores, on='学号')，我们根据共同的键列’学号‘将这两个数据集连接起来，得到了一个包含学生基本信息和各科成绩的数据框架"
   ]
  },
  {
   "cell_type": "code",
   "execution_count": 13,
   "id": "0b1c8c08",
   "metadata": {},
   "outputs": [
    {
     "name": "stdout",
     "output_type": "stream",
     "text": [
      "    学号  姓名  年级  科目  成绩\n",
      "0  111  张三  大一  实训  85\n",
      "1  222  李四  大一  计网  92\n",
      "2  333  王五  大三  导论  78\n"
     ]
    }
   ],
   "source": [
    "import pandas as pd\n",
    "\n",
    "# 假设学生基本信息和学生成绩信息数据集\n",
    "info = pd.DataFrame({\n",
    "    '学号': ['111', '222', '333'],\n",
    "    '姓名': ['张三', '李四', '王五'],\n",
    "    '年级': ['大一', '大一', '大三']\n",
    "})\n",
    "\n",
    "scores = pd.DataFrame({\n",
    "    '学号': ['111', '222', '333'],\n",
    "    '科目': ['实训', '计网', '导论'],\n",
    "    '成绩': [85, 92, 78]\n",
    "})\n",
    "\n",
    "# 使用merge根据StudentID连接学生基本信息和学生成绩信息\n",
    "merged = pd.merge(info, scores, on='学号')\n",
    "\n",
    "# 打印连接后的数据集\n",
    "print(merged)"
   ]
  },
  {
   "cell_type": "markdown",
   "id": "8d47b9bd",
   "metadata": {},
   "source": [
    "3.df.join() \n",
    "用于将两个具有相同或相似索引结构的DataFrame水平连接（按索引）。"
   ]
  },
  {
   "cell_type": "code",
   "execution_count": 5,
   "id": "67855403",
   "metadata": {},
   "outputs": [
    {
     "name": "stdout",
     "output_type": "stream",
     "text": [
      "     A   B   C   D\n",
      "K0  A0  B0  C0  D0\n",
      "K1  A1  B1  C1  D1\n",
      "K2  A2  B2  C2  D2\n"
     ]
    }
   ],
   "source": [
    "import pandas as pd\n",
    "\n",
    "# 示例数据\n",
    "left = pd.DataFrame({'A': ['A0', 'A1', 'A2'],\n",
    "                     'B': ['B0', 'B1', 'B2']},\n",
    "                    index=['K0', 'K1', 'K2'])\n",
    "right = pd.DataFrame({'C': ['C0', 'C1', 'C2'],\n",
    "                      'D': ['D0', 'D1', 'D2']},\n",
    "                     index=['K0', 'K1', 'K2'])\n",
    "# 水平连接\n",
    "result = left.join(right)\n",
    "print(result)"
   ]
  },
  {
   "cell_type": "markdown",
   "id": "a13e1326",
   "metadata": {},
   "source": [
    "4.df.merge_ordered() 方法执行有序的合并，类似于 pd.merge()，但是用于合并时间序列数据"
   ]
  },
  {
   "cell_type": "code",
   "execution_count": 2,
   "id": "5c2be071",
   "metadata": {},
   "outputs": [
    {
     "name": "stdout",
     "output_type": "stream",
     "text": [
      "         date  value_x  value_y\n",
      "0  2000-01-01      1.0      4.0\n",
      "1  2000-02-01      2.0      5.0\n",
      "2  2000-03-01      3.0      NaN\n",
      "3  2000-04-01      NaN      6.0\n"
     ]
    }
   ],
   "source": [
    "import pandas as pd\n",
    "\n",
    "# 示例数据\n",
    "left = pd.DataFrame({'date': ['2000-01-01', '2000-02-01', '2000-03-01'],\n",
    "                     'value': [1, 2, 3]})\n",
    "right = pd.DataFrame({'date': ['2000-01-01', '2000-02-01', '2000-04-01'],\n",
    "                      'value': [4, 5, 6]})\n",
    "\n",
    "# 按日期列合并有序数据\n",
    "result = pd.merge_ordered(left, right, on='date')\n",
    "print(result)"
   ]
  },
  {
   "cell_type": "markdown",
   "id": "844f4ce6",
   "metadata": {},
   "source": [
    "5.pd.concat() 可以沿着指定轴（默认是行轴）将多个DataFrame对象堆叠在一起。"
   ]
  },
  {
   "cell_type": "code",
   "execution_count": 4,
   "id": "950a22ce",
   "metadata": {
    "scrolled": true
   },
   "outputs": [
    {
     "name": "stdout",
     "output_type": "stream",
     "text": [
      "    A   B\n",
      "0  A0  B0\n",
      "1  A1  B1\n",
      "2  A2  B2\n",
      "0  A3  B3\n",
      "1  A4  B4\n",
      "2  A5  B5\n"
     ]
    }
   ],
   "source": [
    "import pandas as pd\n",
    "\n",
    "# 示例数据\n",
    "df1 = pd.DataFrame({'A': ['A0', 'A1', 'A2'],\n",
    "                    'B': ['B0', 'B1', 'B2']})\n",
    "df2 = pd.DataFrame({'A': ['A3', 'A4', 'A5'],\n",
    "                    'B': ['B3', 'B4', 'B5']})\n",
    "\n",
    "# 沿行轴堆叠\n",
    "result = pd.concat([df1, df2])\n",
    "print(result)"
   ]
  },
  {
   "cell_type": "markdown",
   "id": "7063442d",
   "metadata": {},
   "source": [
    "示例1：假设有两个部门分别记录的销售数据，每个部门的数据存储在一个独立的文件或数据表中。我们可以使用 concat 函数将它们合并成一个整体的销售数据集，以便进行全面的分析和报告生成。\n",
    "  t1 和 t2 是两个部门的销售数据，每个数据框架包含了日期和销售额。通过 pd.concat()，可以将两个部门的数据在行轴上堆叠，得到了一个包含了所有销售数据的数据框架"
   ]
  },
  {
   "cell_type": "code",
   "execution_count": 12,
   "id": "db676899",
   "metadata": {},
   "outputs": [
    {
     "name": "stdout",
     "output_type": "stream",
     "text": [
      "           日期  销售数据\n",
      "0  2024-01-01  1000\n",
      "1  2024-01-02  1500\n",
      "2  2024-01-03   800\n",
      "0  2024-01-01  1200\n",
      "1  2024-01-02  1300\n",
      "2  2024-01-03   900\n"
     ]
    }
   ],
   "source": [
    "import pandas as pd\n",
    "\n",
    "# 假设两个部门的销售数据\n",
    "t1 = pd.DataFrame({'日期': ['2024-01-01', '2024-01-02', '2024-01-03'],\n",
    "                            '销售数据': [1000, 1500, 800]})\n",
    "t2 = pd.DataFrame({'日期': ['2024-01-01', '2024-01-02', '2024-01-03'],\n",
    "                            '销售数据': [1200, 1300, 900]})\n",
    "\n",
    "# 使用concat合并两个部门的销售数据\n",
    "combined = pd.concat([t1, t2])\n",
    "\n",
    "# 打印合并后的销售数据\n",
    "print(combined)"
   ]
  }
 ],
 "metadata": {
  "kernelspec": {
   "display_name": "Python 3 (ipykernel)",
   "language": "python",
   "name": "python3"
  },
  "language_info": {
   "codemirror_mode": {
    "name": "ipython",
    "version": 3
   },
   "file_extension": ".py",
   "mimetype": "text/x-python",
   "name": "python",
   "nbconvert_exporter": "python",
   "pygments_lexer": "ipython3",
   "version": "3.9.13"
  }
 },
 "nbformat": 4,
 "nbformat_minor": 5
}
