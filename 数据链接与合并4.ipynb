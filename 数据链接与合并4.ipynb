{
 "cells": [
  {
   "cell_type": "markdown",
   "id": "5bdb6821",
   "metadata": {},
   "source": [
    "一.pd.DataFrame.combine_first()\n",
    "用于填充缺失值，将传入的DataFrame的缺失值用调用者的DataFrame的非缺失值填充。"
   ]
  },
  {
   "cell_type": "code",
   "execution_count": 1,
   "id": "8fdbbf61",
   "metadata": {},
   "outputs": [
    {
     "name": "stdout",
     "output_type": "stream",
     "text": [
      "     A    B\n",
      "0  1.0  NaN\n",
      "1  2.0  5.0\n",
      "2  3.0  6.0\n"
     ]
    }
   ],
   "source": [
    "import pandas as pd\n",
    "import numpy as np\n",
    "\n",
    "# 示例数据\n",
    "df1 = pd.DataFrame({'A':[1, 2, np.nan],\n",
    "                 'B':[np.nan, 5, 6]})\n",
    "df2 = pd.DataFrame({'A':[5, np.nan, 3],\n",
    "                 'B':[np.nan, 7, np.nan]})\n",
    "\n",
    "# 使用df2的非缺失值填充df1的缺失值\n",
    "result = df1.combine_first(df2)\n",
    "print(result)"
   ]
  },
  {
   "cell_type": "markdown",
   "id": "bfe1b876",
   "metadata": {},
   "source": [
    "示例1：以下是关于运动会成绩的示例场景，其中使用了 combine_first 方法来整合两个数据源，并填充缺失值，以展示不同项目的成绩情况\n",
    "r1和r2 是两个数据源，分别包含不同项目的运动会排名信息。通过 combine_first 方法，我们将这两个数据源按项目名称合并，保留尽可能完整的排名信息，得到了一个包含了项目名称和排名的 combined数据框架。"
   ]
  },
  {
   "cell_type": "code",
   "execution_count": 11,
   "id": "b581f76b",
   "metadata": {},
   "outputs": [
    {
     "name": "stdout",
     "output_type": "stream",
     "text": [
      "      项目      成绩\n",
      "0  1000m  236.15\n",
      "1   100m   11.53\n",
      "2   200m    4.00\n",
      "3     跳远     NaN\n"
     ]
    }
   ],
   "source": [
    "import pandas as pd\n",
    "import numpy as np\n",
    "\n",
    "# 示例数据：假设有两个数据源，每个数据源包含不同项目的运动会成绩信息\n",
    "r1 = pd.DataFrame({\n",
    "    '项目': ['100m', '200m', '1000m'],\n",
    "    '成绩': [11.53, np.nan, 236.15]\n",
    "})\n",
    "\n",
    "r2 = pd.DataFrame({\n",
    "    '项目': ['100m', '200m', '跳远'],\n",
    "    '成绩': [2, 4, np.nan]\n",
    "})\n",
    "\n",
    "# 使用combine_first方法合并两个运动会排名数据源\n",
    "combined = r1.set_index('项目').combine_first(r2.set_index('项目')).reset_index()\n",
    "\n",
    "# 打印合并后的运动会排名数据集\n",
    "print(combined)"
   ]
  },
  {
   "cell_type": "markdown",
   "id": "6ce8f3c2",
   "metadata": {},
   "source": [
    "示例2："
   ]
  },
  {
   "cell_type": "code",
   "execution_count": 1,
   "id": "e4a24ea1",
   "metadata": {},
   "outputs": [
    {
     "name": "stdout",
     "output_type": "stream",
     "text": [
      "     项目     成绩\n",
      "0  100m  10.91\n",
      "1  200m  22.15\n",
      "2    跳高   1.95\n"
     ]
    }
   ],
   "source": [
    "import pandas as pd\n",
    "import numpy as np\n",
    "\n",
    "# 示例数据1\n",
    "t1 = pd.DataFrame({\n",
    "    '项目': ['100m', '200m', '跳高'],\n",
    "    '成绩': [10.91, 22.15, np.nan]\n",
    "})\n",
    "\n",
    "# 示例数据2\n",
    "t2 = pd.DataFrame({\n",
    "    '项目': ['100m', '200m', '跳高'],\n",
    "    '成绩': [10.89, np.nan, 1.95]\n",
    "})\n",
    "\n",
    "# 使用combine_first方法合并数据\n",
    "combined = t1.set_index('项目').combine_first(t2.set_index('项目')).reset_index()\n",
    "\n",
    "# 打印合并后的数据集\n",
    "print(combined)\n"
   ]
  },
  {
   "cell_type": "markdown",
   "id": "a7054242",
   "metadata": {},
   "source": [
    "示例3："
   ]
  },
  {
   "cell_type": "code",
   "execution_count": 2,
   "id": "b58914e7",
   "metadata": {},
   "outputs": [
    {
     "name": "stdout",
     "output_type": "stream",
     "text": [
      "   项目      成绩\n",
      "0  拳击    9.80\n",
      "1  游泳  124.00\n",
      "2  篮球  112.00\n",
      "3  跳水    8.75\n"
     ]
    }
   ],
   "source": [
    "import pandas as pd\n",
    "import numpy as np\n",
    "\n",
    "# 示例数据1\n",
    "m1 = pd.DataFrame({\n",
    "    '项目': ['拳击', '篮球', '游泳'],\n",
    "    '成绩': [9.8, 112, np.nan]\n",
    "})\n",
    "\n",
    "# 示例数据2\n",
    "m2 = pd.DataFrame({\n",
    "    '项目': ['拳击', '游泳', '跳水'],\n",
    "    '成绩': [9.7, 124, 8.75]\n",
    "})\n",
    "\n",
    "# 使用combine_first方法合并数据\n",
    "combined = m1.set_index('项目').combine_first(m2.set_index('项目')).reset_index()\n",
    "\n",
    "# 打印合并后的数据集\n",
    "print(combined)\n"
   ]
  },
  {
   "cell_type": "markdown",
   "id": "53e17c18",
   "metadata": {},
   "source": [
    "二.pd.merge()\n",
    "可以根据一个或多个键将不同DataFrame中的行连接起来，类似于SQL中的JOIN操作。"
   ]
  },
  {
   "cell_type": "code",
   "execution_count": 6,
   "id": "d5bacd7e",
   "metadata": {
    "scrolled": false
   },
   "outputs": [
    {
     "name": "stdout",
     "output_type": "stream",
     "text": [
      "  key   A   B\n",
      "0  K0  A0  B0\n",
      "1  K1  A1  B1\n",
      "2  K2  A2  B2\n"
     ]
    }
   ],
   "source": [
    "import pandas as pd\n",
    "\n",
    "# 示例数据\n",
    "left = pd.DataFrame({'key': ['K0', 'K1', 'K2'],\n",
    "                     'A': ['A0', 'A1', 'A2']})\n",
    "right = pd.DataFrame({'key': ['K0', 'K1', 'K2'],\n",
    "                      'B': ['B0', 'B1', 'B2']})\n",
    "\n",
    "# 根据key列连接\n",
    "result = pd.merge(left, right, on='key')\n",
    "print(result)"
   ]
  },
  {
   "cell_type": "markdown",
   "id": "5cb3518f",
   "metadata": {},
   "source": [
    "示例1：假设有两个数据集，一个包含学生基本信息，另一个包含学生的各科成绩信息。我们可以使用 merge 函数基于学生的学号将这两个数据集连接起来，以便进行综合分析。\n",
    "  info 和 scores 是两个数据集，分别包含学生的基本信息和各科成绩信息。通过 pd.merge(info, scores, on='学号')，我们根据共同的键列’学号‘将这两个数据集连接起来，得到了一个包含学生基本信息和各科成绩的数据框架"
   ]
  },
  {
   "cell_type": "code",
   "execution_count": 13,
   "id": "74ee8c41",
   "metadata": {},
   "outputs": [
    {
     "name": "stdout",
     "output_type": "stream",
     "text": [
      "    学号  姓名  年级  科目  成绩\n",
      "0  111  张三  大一  实训  85\n",
      "1  222  李四  大一  计网  92\n",
      "2  333  王五  大三  导论  78\n"
     ]
    }
   ],
   "source": [
    "import pandas as pd\n",
    "\n",
    "# 假设学生基本信息和学生成绩信息数据集\n",
    "info = pd.DataFrame({\n",
    "    '学号': ['111', '222', '333'],\n",
    "    '姓名': ['张三', '李四', '王五'],\n",
    "    '年级': ['大一', '大一', '大三']\n",
    "})\n",
    "\n",
    "scores = pd.DataFrame({\n",
    "    '学号': ['111', '222', '333'],\n",
    "    '科目': ['实训', '计网', '导论'],\n",
    "    '成绩': [85, 92, 78]\n",
    "})\n",
    "\n",
    "# 使用merge根据StudentID连接学生基本信息和学生成绩信息\n",
    "merged = pd.merge(info, scores, on='学号')\n",
    "\n",
    "# 打印连接后的数据集\n",
    "print(merged)"
   ]
  },
  {
   "cell_type": "markdown",
   "id": "dd9da0e0",
   "metadata": {},
   "source": [
    "示例2"
   ]
  },
  {
   "cell_type": "code",
   "execution_count": 6,
   "id": "b0dfef5d",
   "metadata": {},
   "outputs": [
    {
     "name": "stdout",
     "output_type": "stream",
     "text": [
      "  学号_x  姓名  年级 学号_y  科目  成绩\n",
      "0  111  张三  大一  111  高数  75\n",
      "1  222  李四  大一  222  计网  72\n",
      "2  333  王五  大三  333  导论  68\n"
     ]
    }
   ],
   "source": [
    "import pandas as pd\n",
    "\n",
    "# 学生基本信息数据集\n",
    "info = pd.DataFrame({\n",
    "    '学号': ['111', '222', '333'],\n",
    "    '姓名': ['张三', '李四', '王五'],\n",
    "    '年级': ['大一', '大一', '大三']\n",
    "})\n",
    "\n",
    "# 学生成绩信息数据集，姓名列与info中相同\n",
    "scores = pd.DataFrame({\n",
    "    '学号': ['111', '222', '333'],\n",
    "    '姓名': ['张三', '李四', '王五'],\n",
    "    '科目': ['高数', '计网', '导论'],\n",
    "    '成绩': [75, 72, 68]\n",
    "})\n",
    "\n",
    "# 使用merge根据姓名连接学生基本信息和学生成绩信息\n",
    "merged = pd.merge(info, scores, on='姓名')\n",
    "\n",
    "# 打印连接后的数据集\n",
    "print(merged)\n"
   ]
  },
  {
   "cell_type": "markdown",
   "id": "311f63b8",
   "metadata": {},
   "source": [
    "示例3"
   ]
  },
  {
   "cell_type": "code",
   "execution_count": 11,
   "id": "919eaa88",
   "metadata": {},
   "outputs": [
    {
     "name": "stdout",
     "output_type": "stream",
     "text": [
      "  学号_x  姓名  年级 学号_y  科目  成绩\n",
      "0  001  赵云  大一  001  高数  75\n",
      "1  002  马超  大一  002  计网  72\n",
      "2  003  刘备  大三  003  导论  68\n"
     ]
    }
   ],
   "source": [
    "import pandas as pd\n",
    "\n",
    "# 学生基本信息数据集\n",
    "info = pd.DataFrame({\n",
    "    '学号': ['001', '002', '003'],\n",
    "    '姓名': ['赵云', '马超', '刘备'],\n",
    "    '年级': ['大一', '大一', '大三']\n",
    "})\n",
    "\n",
    "# 学生成绩信息数据集，姓名列与info中相同\n",
    "scores = pd.DataFrame({\n",
    "    '学号': ['001', '002', '003'],\n",
    "    '姓名': ['赵云', '马超', '刘备'],\n",
    "    '科目': ['高数', '计网', '导论'],\n",
    "    '成绩': [75, 72, 68]\n",
    "})\n",
    "\n",
    "# 使用merge根据姓名连接学生基本信息和学生成绩信息\n",
    "merged = pd.merge(info, scores, on='姓名')\n",
    "\n",
    "# 打印连接后的数据集\n",
    "print(merged)\n"
   ]
  },
  {
   "cell_type": "markdown",
   "id": "8d47b9bd",
   "metadata": {},
   "source": [
    "三.df.join() \n",
    "用于将两个具有相同或相似索引结构的DataFrame水平连接（按索引）。"
   ]
  },
  {
   "cell_type": "code",
   "execution_count": 5,
   "id": "67855403",
   "metadata": {},
   "outputs": [
    {
     "name": "stdout",
     "output_type": "stream",
     "text": [
      "     A   B   C   D\n",
      "K0  A0  B0  C0  D0\n",
      "K1  A1  B1  C1  D1\n",
      "K2  A2  B2  C2  D2\n"
     ]
    }
   ],
   "source": [
    "import pandas as pd\n",
    "\n",
    "# 示例数据\n",
    "left = pd.DataFrame({'A': ['A0', 'A1', 'A2'],\n",
    "                     'B': ['B0', 'B1', 'B2']},\n",
    "                    index=['K0', 'K1', 'K2'])\n",
    "right = pd.DataFrame({'C': ['C0', 'C1', 'C2'],\n",
    "                      'D': ['D0', 'D1', 'D2']},\n",
    "                     index=['K0', 'K1', 'K2'])\n",
    "# 水平连接\n",
    "result = left.join(right)\n",
    "print(result)"
   ]
  },
  {
   "cell_type": "markdown",
   "id": "888b1031",
   "metadata": {},
   "source": [
    "示例1：在处理销售数据时，需要将客户信息和订单信息进行关联。\n",
    "将客户信息和订单信息关联起来，以便进行分析或生成报告。使用 join 方法来实现这一点\n",
    "展示了如何将客户信息表和订单信息表进行关联，使得我们可以基于客户的特征（如姓名、年龄）来分析他们的订单信息（如产品、数量）"
   ]
  },
  {
   "cell_type": "code",
   "execution_count": 12,
   "id": "5485b3ff",
   "metadata": {},
   "outputs": [
    {
     "name": "stdout",
     "output_type": "stream",
     "text": [
      "客户信息和订单信息关联结果：\n",
      "      订单号 产品   数量 顾客姓名  顾客年龄\n",
      "顾客序号                        \n",
      "1     522  A  200   赵云    35\n",
      "3     523  B  104   刘备    40\n",
      "2     524  C  375   马超    28\n",
      "4     525  A  227   关羽    30\n"
     ]
    }
   ],
   "source": [
    "import pandas as pd\n",
    "\n",
    "# 创建顾客信息表\n",
    "customers = pd.DataFrame({\n",
    "    '顾客序号': [1, 2, 3, 4],\n",
    "    '顾客姓名': ['赵云', '马超', '刘备','关羽'],\n",
    "    '顾客年龄': [35, 28, 40, 30]\n",
    "})\n",
    "customers.set_index('顾客序号', inplace=True)\n",
    "\n",
    "# 创建订单信息表\n",
    "orders = pd.DataFrame({\n",
    "    '订单号': [522, 523, 524, 525],\n",
    "    '顾客序号': [1, 3, 2, 4],\n",
    "    '产品': ['A', 'B', 'C', 'A'],\n",
    "    '数量': [200, 104, 375, 227]\n",
    "})\n",
    "orders.set_index('顾客序号', inplace=True)\n",
    "\n",
    "# 使用 join 方法进行客户信息和订单信息的关联\n",
    "joined = orders.join(customers, how='inner', lsuffix='_order', rsuffix='_customer')\n",
    "\n",
    "# 输出结果\n",
    "print(\"客户信息和订单信息关联结果：\")\n",
    "print(joined)"
   ]
  },
  {
   "cell_type": "markdown",
   "id": "e2fd7f03",
   "metadata": {},
   "source": [
    "示例2"
   ]
  },
  {
   "cell_type": "code",
   "execution_count": 14,
   "id": "2665914a",
   "metadata": {},
   "outputs": [
    {
     "name": "stdout",
     "output_type": "stream",
     "text": [
      "客户信息和订单信息关联结果：\n",
      "      订单号 产品     数量 顾客姓名  顾客年龄\n",
      "顾客序号                          \n",
      "1     541  A  96958   悟能    51\n",
      "3     656  B   5585   悟空    30\n",
      "2     565  C   1541   三藏    64\n",
      "4     255  A   2255   悟净    50\n"
     ]
    }
   ],
   "source": [
    "import pandas as pd\n",
    "\n",
    "# 创建顾客信息表\n",
    "customers = pd.DataFrame({\n",
    "    '顾客序号': [1, 2, 3, 4],\n",
    "    '顾客姓名': ['悟能', '三藏', '悟空', '悟净'],\n",
    "    '顾客年龄': [51, 64, 30, 50]\n",
    "})\n",
    "customers.set_index('顾客序号', inplace=True)\n",
    "\n",
    "# 创建订单信息表\n",
    "orders = pd.DataFrame({\n",
    "    '订单号': [541,656,565,255],\n",
    "    '顾客序号': [1, 3, 2, 4],\n",
    "    '产品': ['A', 'B', 'C', 'A'],\n",
    "    '数量': [96958,5585,1541,2255]\n",
    "})\n",
    "orders.set_index('顾客序号', inplace=True)\n",
    "\n",
    "# 使用 join 方法进行客户信息和订单信息的关联\n",
    "joined = orders.join(customers, how='inner', lsuffix='_order', rsuffix='_customer')\n",
    "\n",
    "# 输出结果\n",
    "print(\"客户信息和订单信息关联结果：\")\n",
    "print(joined)"
   ]
  },
  {
   "cell_type": "markdown",
   "id": "34575f02",
   "metadata": {},
   "source": [
    "示例3"
   ]
  },
  {
   "cell_type": "code",
   "execution_count": 18,
   "id": "56f8f60c",
   "metadata": {},
   "outputs": [
    {
     "name": "stdout",
     "output_type": "stream",
     "text": [
      "客户信息和订单信息关联结果：\n",
      "        订单号 产品  数量 顾客姓名  顾客年龄\n",
      "顾客序号                         \n",
      "1     48448  A  30   林冲    35\n",
      "3     84468  B  21   姚盖    40\n",
      "2     64846  C  54   宋江    28\n",
      "4     48152  A  31   武松    30\n"
     ]
    }
   ],
   "source": [
    "import pandas as pd\n",
    "\n",
    "# 创建顾客信息表\n",
    "customers = pd.DataFrame({\n",
    "    '顾客序号': [1, 2, 3, 4],\n",
    "    '顾客姓名': ['林冲', '宋江', '姚盖', '武松'],\n",
    "    '顾客年龄': [35, 28, 40, 30]\n",
    "})\n",
    "customers.set_index('顾客序号', inplace=True)\n",
    "\n",
    "# 创建订单信息表\n",
    "orders = pd.DataFrame({\n",
    "    '订单号': [48448,84468,64846,48152],\n",
    "    '顾客序号': [1, 3, 2, 4],\n",
    "    '产品': ['A', 'B', 'C', 'A'],\n",
    "    '数量': [30,21,54,31]\n",
    "})\n",
    "orders.set_index('顾客序号', inplace=True)\n",
    "\n",
    "# 使用 join 方法进行客户信息和订单信息的关联\n",
    "joined = orders.join(customers, how='inner', lsuffix='_order', rsuffix='_customer')\n",
    "\n",
    "# 输出结果\n",
    "print(\"客户信息和订单信息关联结果：\")\n",
    "print(joined)"
   ]
  },
  {
   "cell_type": "markdown",
   "id": "a13e1326",
   "metadata": {},
   "source": [
    "四.df.merge_ordered() 方法执行有序的合并，类似于 pd.merge()，但是用于合并时间序列数据"
   ]
  },
  {
   "cell_type": "code",
   "execution_count": 2,
   "id": "5c2be071",
   "metadata": {},
   "outputs": [
    {
     "name": "stdout",
     "output_type": "stream",
     "text": [
      "         date  value_x  value_y\n",
      "0  2000-01-01      1.0      4.0\n",
      "1  2000-02-01      2.0      5.0\n",
      "2  2000-03-01      3.0      NaN\n",
      "3  2000-04-01      NaN      6.0\n"
     ]
    }
   ],
   "source": [
    "import pandas as pd\n",
    "\n",
    "# 示例数据\n",
    "left = pd.DataFrame({'date': ['2000-01-01', '2000-02-01', '2000-03-01'],\n",
    "                     'value': [1, 2, 3]})\n",
    "right = pd.DataFrame({'date': ['2000-01-01', '2000-02-01', '2000-04-01'],\n",
    "                      'value': [4, 5, 6]})\n",
    "\n",
    "# 按日期列合并有序数据\n",
    "result = pd.merge_ordered(left, right, on='date')\n",
    "print(result)"
   ]
  },
  {
   "cell_type": "markdown",
   "id": "135b787c",
   "metadata": {},
   "source": [
    "示例1：学生的学习进度追踪和课程完成情况分析。\n",
    "使用 merge_ordered() 方法将学生信息表和课程进度表按照学生ID进行有序合并，以便分析每位学生的课程进度情况"
   ]
  },
  {
   "cell_type": "code",
   "execution_count": 7,
   "id": "a5dc25b1",
   "metadata": {},
   "outputs": [
    {
     "name": "stdout",
     "output_type": "stream",
     "text": [
      "学生信息和课程进度关联结果：\n",
      "        入学时间  学号_x    姓名  成绩  学号_y  科目 完成情况\n",
      "0  2022.9.06     4    甲甲  85     4  高数  80%\n",
      "1  2022.9.10     1    张三  47     1  高数  50%\n",
      "2  2022.9.10     1    张三  47     1  英语  90%\n",
      "3  2022.9.11     2    李四  58     2  高数  75%\n",
      "4  2022.9.11     2    李四  58     3  大物  70%\n",
      "5  2022.9.13     3    王五  52     3  高数  60%\n"
     ]
    }
   ],
   "source": [
    "import pandas as pd\n",
    "\n",
    "# 学生信息表\n",
    "students = pd.DataFrame({\n",
    "    '入学时间':['2022.9.10','2022.9.11','2022.9.13','2022.9.06'],\n",
    "    '学号': [1, 2, 3, 4],\n",
    "    '姓名': [' 张三', ' 李四', ' 王五', '  甲甲'],\n",
    "    '成绩': ['47', '58', '52', '85']\n",
    "})\n",
    "students.set_index('入学时间', inplace=True)\n",
    "\n",
    "# 课程进度表\n",
    "course = pd.DataFrame({\n",
    "    '入学时间':['2022.9.10','2022.9.11','2022.9.13','2022.9.06','2022.9.10','2022.9.11'],\n",
    "    '学号': [1, 2, 3, 4, 1, 3],\n",
    "    '科目': ['高数', '高数', '高数', '高数', '英语', '大物'],\n",
    "    '完成情况': ['50%', '75%', '60%', '80%', '90%', '70%']\n",
    "})\n",
    "\n",
    "# 按学生ID有序合并学生信息和课程进度\n",
    "merged = pd.merge_ordered(students, course, on='入学时间')\n",
    "\n",
    "# 输出结果\n",
    "print(\"学生信息和课程进度关联结果：\")\n",
    "print(merged)\n"
   ]
  },
  {
   "cell_type": "markdown",
   "id": "179af1c5",
   "metadata": {},
   "source": [
    "示例2"
   ]
  },
  {
   "cell_type": "code",
   "execution_count": 21,
   "id": "1be9127a",
   "metadata": {},
   "outputs": [
    {
     "name": "stdout",
     "output_type": "stream",
     "text": [
      "学生信息和课程进度关联结果：\n",
      "        入学时间  学号_x  姓名  成绩  学号_y  科目  完成情况\n",
      "0  2022.9.06     4  关羽  85     4  高数  100%\n",
      "1  2022.9.10     1  赵云  47     1  高数   50%\n",
      "2  2022.9.10     1  赵云  47     1  英语   50%\n",
      "3  2022.9.11     2  马超  58     2  英语   75%\n",
      "4  2022.9.11     2  马超  58     3  大物   70%\n",
      "5  2022.9.13     3  刘备  52     3  大物   65%\n"
     ]
    }
   ],
   "source": [
    "import pandas as pd\n",
    "\n",
    "# 学生信息表\n",
    "students = pd.DataFrame({\n",
    "    '入学时间':['2022.9.10','2022.9.11','2022.9.13','2022.9.06'],\n",
    "    '学号': [1, 2, 3, 4],\n",
    "    '姓名': ['赵云', '马超', '刘备','关羽'],\n",
    "    '成绩': ['47', '58', '52', '85']\n",
    "})\n",
    "students.set_index('入学时间', inplace=True)\n",
    "\n",
    "# 课程进度表\n",
    "course = pd.DataFrame({\n",
    "    '入学时间':['2022.9.10','2022.9.11','2022.9.13','2022.9.06','2022.9.10','2022.9.11'],\n",
    "    '学号': [1, 2, 3, 4, 1, 3],\n",
    "    '科目': ['高数', '英语', '大物', '高数', '英语', '大物'],\n",
    "    '完成情况': ['50%', '75%', '65%', '100%','50%', '70%']\n",
    "})\n",
    "\n",
    "# 按学生ID有序合并学生信息和课程进度\n",
    "merged = pd.merge_ordered(students, course, on='入学时间')\n",
    "\n",
    "# 输出结果\n",
    "print(\"学生信息和课程进度关联结果：\")\n",
    "print(merged)\n"
   ]
  },
  {
   "cell_type": "markdown",
   "id": "3a41157d",
   "metadata": {},
   "source": [
    "示例3"
   ]
  },
  {
   "cell_type": "code",
   "execution_count": 23,
   "id": "604c26c4",
   "metadata": {},
   "outputs": [
    {
     "name": "stdout",
     "output_type": "stream",
     "text": [
      "学生信息和课程进度关联结果：\n",
      "        入学时间  学号_x  姓名  成绩  学号_y  科目 完成情况\n",
      "0  2022.9.06     4  武松  55     4  高数  80%\n",
      "1  2022.9.10     1  林冲  94     1  大物  50%\n",
      "2  2022.9.10     1  林冲  94     1  英语  90%\n",
      "3  2022.9.11     2  宋江  64     2  高数  75%\n",
      "4  2022.9.11     2  宋江  64     3  大物  70%\n",
      "5  2022.9.13     3  姚盖  86     3  高数  60%\n"
     ]
    }
   ],
   "source": [
    "import pandas as pd\n",
    "\n",
    "# 学生信息表\n",
    "students = pd.DataFrame({\n",
    "    '入学时间':['2022.9.10','2022.9.11','2022.9.13','2022.9.06'],\n",
    "    '学号': [1, 2, 3, 4],\n",
    "    '姓名': ['林冲', '宋江', '姚盖', '武松'],\n",
    "    '成绩': ['94', '64', '86', '55']\n",
    "})\n",
    "students.set_index('入学时间', inplace=True)\n",
    "\n",
    "# 课程进度表\n",
    "course = pd.DataFrame({\n",
    "    '入学时间':['2022.9.10','2022.9.11','2022.9.13','2022.9.06','2022.9.10','2022.9.11'],\n",
    "    '学号': [1, 2, 3, 4, 1, 3],\n",
    "    '科目': ['大物', '高数', '高数', '高数', '英语', '大物'],\n",
    "    '完成情况': ['50%', '75%', '60%', '80%', '90%', '70%']\n",
    "})\n",
    "\n",
    "# 按学生ID有序合并学生信息和课程进度\n",
    "merged = pd.merge_ordered(students, course, on='入学时间')\n",
    "\n",
    "# 输出结果\n",
    "print(\"学生信息和课程进度关联结果：\")\n",
    "print(merged)\n"
   ]
  },
  {
   "cell_type": "markdown",
   "id": "844f4ce6",
   "metadata": {},
   "source": [
    "五.pd.concat() 可以沿着指定轴（默认是行轴）将多个DataFrame对象堆叠在一起。"
   ]
  },
  {
   "cell_type": "code",
   "execution_count": 4,
   "id": "950a22ce",
   "metadata": {
    "scrolled": true
   },
   "outputs": [
    {
     "name": "stdout",
     "output_type": "stream",
     "text": [
      "    A   B\n",
      "0  A0  B0\n",
      "1  A1  B1\n",
      "2  A2  B2\n",
      "0  A3  B3\n",
      "1  A4  B4\n",
      "2  A5  B5\n"
     ]
    }
   ],
   "source": [
    "import pandas as pd\n",
    "\n",
    "# 示例数据\n",
    "df1 = pd.DataFrame({'A': ['A0', 'A1', 'A2'],\n",
    "                    'B': ['B0', 'B1', 'B2']})\n",
    "df2 = pd.DataFrame({'A': ['A3', 'A4', 'A5'],\n",
    "                    'B': ['B3', 'B4', 'B5']})\n",
    "\n",
    "# 沿行轴堆叠\n",
    "result = pd.concat([df1, df2])\n",
    "print(result)"
   ]
  },
  {
   "cell_type": "markdown",
   "id": "dfc33357",
   "metadata": {},
   "source": [
    "示例1：假设有两个部门分别记录的销售数据，每个部门的数据存储在一个独立的文件或数据表中。我们可以使用 concat 函数将它们合并成一个整体的销售数据集，以便进行全面的分析和报告生成。\n",
    "  t1 和 t2 是两个部门的销售数据，每个数据框架包含了日期和销售额。通过 pd.concat()，可以将两个部门的数据在行轴上堆叠，得到了一个包含了所有销售数据的数据框架"
   ]
  },
  {
   "cell_type": "code",
   "execution_count": 12,
   "id": "3ef2f2a3",
   "metadata": {},
   "outputs": [
    {
     "name": "stdout",
     "output_type": "stream",
     "text": [
      "           日期  销售数据\n",
      "0  2024-01-01  1000\n",
      "1  2024-01-02  1500\n",
      "2  2024-01-03   800\n",
      "0  2024-01-01  1200\n",
      "1  2024-01-02  1300\n",
      "2  2024-01-03   900\n"
     ]
    }
   ],
   "source": [
    "import pandas as pd\n",
    "\n",
    "# 假设两个部门的销售数据\n",
    "t1 = pd.DataFrame({'日期': ['2024-01-01', '2024-01-02', '2024-01-03'],\n",
    "                            '销售数据': [1000, 1500, 800]})\n",
    "t2 = pd.DataFrame({'日期': ['2024-01-01', '2024-01-02', '2024-01-03'],\n",
    "                            '销售数据': [1200, 1300, 900]})\n",
    "\n",
    "# 使用concat合并两个部门的销售数据\n",
    "combined = pd.concat([t1, t2])\n",
    "\n",
    "# 打印合并后的销售数据\n",
    "print(combined)"
   ]
  },
  {
   "cell_type": "markdown",
   "id": "60577785",
   "metadata": {},
   "source": [
    "示例2"
   ]
  },
  {
   "cell_type": "code",
   "execution_count": 25,
   "id": "0dd80b0e",
   "metadata": {},
   "outputs": [
    {
     "name": "stdout",
     "output_type": "stream",
     "text": [
      "           日期   销售数据\n",
      "0  2024-02-08   1460\n",
      "1  2024-09-02  16460\n",
      "2  2024-11-06   6460\n",
      "0  2024-02-08  54852\n",
      "1  2024-09-02  13500\n",
      "2  2024-11-06   5900\n"
     ]
    }
   ],
   "source": [
    "import pandas as pd\n",
    "\n",
    "# 假设两个部门的销售数据\n",
    "t1 = pd.DataFrame({'日期': ['2024-02-08', '2024-09-02', '2024-11-06'],\n",
    "                            '销售数据': [1460, 16460, 6460]})\n",
    "t2 = pd.DataFrame({'日期': ['2024-02-08', '2024-09-02', '2024-11-06'],\n",
    "                            '销售数据': [54852, 13500, 5900]})\n",
    "\n",
    "# 使用concat合并两个部门的销售数据\n",
    "combined = pd.concat([t1, t2])\n",
    "\n",
    "# 打印合并后的销售数据\n",
    "print(combined)"
   ]
  },
  {
   "cell_type": "markdown",
   "id": "89da29a5",
   "metadata": {},
   "source": [
    "示例3"
   ]
  },
  {
   "cell_type": "code",
   "execution_count": 26,
   "id": "42a3df39",
   "metadata": {},
   "outputs": [
    {
     "name": "stdout",
     "output_type": "stream",
     "text": [
      "           日期  考试成绩   科目\n",
      "0  2024-09-01    98   高数\n",
      "1  2024-07-12    86   大物\n",
      "2  2024-07-03    90   英语\n",
      "0  2024-07-11    54  概率论\n",
      "1  2024-07-22    94   计网\n",
      "2  2024-07-13    90   实训\n"
     ]
    }
   ],
   "source": [
    "import pandas as pd\n",
    "\n",
    "# 假设两门考试的考试成绩\n",
    "t1 = pd.DataFrame({'日期': ['2024-09-01', '2024-07-12', '2024-07-03'],\n",
    "                   '考试成绩': [98, 86, 90],\n",
    "                   '科目':['高数','大物','英语']})\n",
    "t2 = pd.DataFrame({'日期': ['2024-07-11', '2024-07-22', '2024-07-13'],\n",
    "                   '考试成绩': [54, 94, 90],\n",
    "                   '科目':['概率论','计网','实训']})\n",
    "\n",
    "# 使用concat合并考试成绩\n",
    "combined = pd.concat([t1, t2])\n",
    "\n",
    "# 打印合并后的考试成绩\n",
    "print(combined)"
   ]
  }
 ],
 "metadata": {
  "kernelspec": {
   "display_name": "Python 3 (ipykernel)",
   "language": "python",
   "name": "python3"
  },
  "language_info": {
   "codemirror_mode": {
    "name": "ipython",
    "version": 3
   },
   "file_extension": ".py",
   "mimetype": "text/x-python",
   "name": "python",
   "nbconvert_exporter": "python",
   "pygments_lexer": "ipython3",
   "version": "3.9.13"
  }
 },
 "nbformat": 4,
 "nbformat_minor": 5
}
